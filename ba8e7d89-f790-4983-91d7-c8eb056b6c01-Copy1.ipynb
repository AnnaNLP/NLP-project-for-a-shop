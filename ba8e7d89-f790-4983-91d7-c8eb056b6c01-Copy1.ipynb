{
 "cells": [
  {
   "cell_type": "markdown",
   "metadata": {
    "toc": true
   },
   "source": [
    "<h1>Содержание<span class=\"tocSkip\"></span></h1>\n",
    "<div class=\"toc\"><ul class=\"toc-item\"><li><span><a href=\"#Preparation\" data-toc-modified-id=\"Preparation-1\"><span class=\"toc-item-num\">1&nbsp;&nbsp;</span>Preparation</a></span></li><li><span><a href=\"#Training\" data-toc-modified-id=\"Training-2\"><span class=\"toc-item-num\">2&nbsp;&nbsp;</span>Training</a></span><ul class=\"toc-item\"><li><span><a href=\"#LogisticRegression\" data-toc-modified-id=\"LogisticRegression-2.1\"><span class=\"toc-item-num\">2.1&nbsp;&nbsp;</span>LogisticRegression</a></span></li><li><span><a href=\"#DecisionTree\" data-toc-modified-id=\"DecisionTree-2.2\"><span class=\"toc-item-num\">2.2&nbsp;&nbsp;</span>DecisionTree</a></span></li><li><span><a href=\"#RandomForest\" data-toc-modified-id=\"RandomForest-2.3\"><span class=\"toc-item-num\">2.3&nbsp;&nbsp;</span>RandomForest</a></span></li><li><span><a href=\"#CatBoostClassifier\" data-toc-modified-id=\"CatBoostClassifier-2.4\"><span class=\"toc-item-num\">2.4&nbsp;&nbsp;</span>CatBoostClassifier</a></span></li></ul></li><li><span><a href=\"#Conclusions\" data-toc-modified-id=\"Conclusions-3\"><span class=\"toc-item-num\">3&nbsp;&nbsp;</span>Conclusions</a></span></li></ul></div>"
   ]
  },
  {
   "cell_type": "markdown",
   "metadata": {},
   "source": [
    "Wikishop online store launches a new service. Now users can edit and add product descriptions, just like in wiki communities. That is, clients offer their own edits and comment on the changes of others. The store needs a tool that will search for toxic comments and send them for moderation. \n",
    "\n",
    "Train the model to classify comments into positive and negative ones. You have at your disposal a data set with markup on the toxicity of edits.\n",
    "\n",
    "Build a model with the value of the quality metric *F1* at least 0.75.\n",
    "\n",
    "**Description of the data**\n",
    "\n",
    "The data is in the file `toxic_comments.csv'. The *text* column in it contains the text of the comment, and *toxic* is the target attribute."
   ]
  },
  {
   "cell_type": "markdown",
   "metadata": {},
   "source": [
    "# Project for «Wikishop»"
   ]
  },
  {
   "cell_type": "markdown",
   "metadata": {},
   "source": [
    "## Preparation"
   ]
  },
  {
   "cell_type": "code",
   "execution_count": 1,
   "metadata": {},
   "outputs": [
    {
     "name": "stderr",
     "output_type": "stream",
     "text": [
      "[nltk_data] Downloading package stopwords to /home/jovyan/nltk_data...\n",
      "[nltk_data]   Package stopwords is already up-to-date!\n"
     ]
    }
   ],
   "source": [
    "import pandas as pd \n",
    "import numpy as np \n",
    "\n",
    "from sklearn.pipeline import Pipeline\n",
    "\n",
    "import re\n",
    "import nltk\n",
    "from nltk.corpus import stopwords as nltk_stopwords\n",
    "from sklearn.feature_extraction.text import TfidfVectorizer, TfidfTransformer\n",
    "\n",
    "from sklearn.model_selection import train_test_split, GridSearchCV\n",
    "\n",
    "from sklearn.linear_model import LogisticRegression\n",
    "from sklearn.tree import DecisionTreeClassifier\n",
    "from sklearn.ensemble import RandomForestClassifier\n",
    "from lightgbm import LGBMClassifier \n",
    "from catboost import CatBoostClassifier\n",
    "\n",
    "from sklearn.metrics import f1_score\n",
    "\n",
    "import time\n",
    "import warnings\n",
    "warnings.filterwarnings('ignore')\n",
    "\n",
    "nltk.download('stopwords')\n",
    "stopwords = set(nltk_stopwords.words('english'))\n",
    "\n",
    "import plotly.graph_objects as go"
   ]
  },
  {
   "cell_type": "code",
   "execution_count": 2,
   "metadata": {},
   "outputs": [],
   "source": [
    "data = pd.read_csv('https://code.s3.yandex.net/datasets/toxic_comments.csv')"
   ]
  },
  {
   "cell_type": "code",
   "execution_count": 3,
   "metadata": {},
   "outputs": [
    {
     "data": {
      "text/html": [
       "<div>\n",
       "<style scoped>\n",
       "    .dataframe tbody tr th:only-of-type {\n",
       "        vertical-align: middle;\n",
       "    }\n",
       "\n",
       "    .dataframe tbody tr th {\n",
       "        vertical-align: top;\n",
       "    }\n",
       "\n",
       "    .dataframe thead th {\n",
       "        text-align: right;\n",
       "    }\n",
       "</style>\n",
       "<table border=\"1\" class=\"dataframe\">\n",
       "  <thead>\n",
       "    <tr style=\"text-align: right;\">\n",
       "      <th></th>\n",
       "      <th>Unnamed: 0</th>\n",
       "      <th>text</th>\n",
       "      <th>toxic</th>\n",
       "    </tr>\n",
       "  </thead>\n",
       "  <tbody>\n",
       "    <tr>\n",
       "      <th>0</th>\n",
       "      <td>0</td>\n",
       "      <td>Explanation\\nWhy the edits made under my usern...</td>\n",
       "      <td>0</td>\n",
       "    </tr>\n",
       "    <tr>\n",
       "      <th>1</th>\n",
       "      <td>1</td>\n",
       "      <td>D'aww! He matches this background colour I'm s...</td>\n",
       "      <td>0</td>\n",
       "    </tr>\n",
       "    <tr>\n",
       "      <th>2</th>\n",
       "      <td>2</td>\n",
       "      <td>Hey man, I'm really not trying to edit war. It...</td>\n",
       "      <td>0</td>\n",
       "    </tr>\n",
       "    <tr>\n",
       "      <th>3</th>\n",
       "      <td>3</td>\n",
       "      <td>\"\\nMore\\nI can't make any real suggestions on ...</td>\n",
       "      <td>0</td>\n",
       "    </tr>\n",
       "    <tr>\n",
       "      <th>4</th>\n",
       "      <td>4</td>\n",
       "      <td>You, sir, are my hero. Any chance you remember...</td>\n",
       "      <td>0</td>\n",
       "    </tr>\n",
       "  </tbody>\n",
       "</table>\n",
       "</div>"
      ],
      "text/plain": [
       "   Unnamed: 0                                               text  toxic\n",
       "0           0  Explanation\\nWhy the edits made under my usern...      0\n",
       "1           1  D'aww! He matches this background colour I'm s...      0\n",
       "2           2  Hey man, I'm really not trying to edit war. It...      0\n",
       "3           3  \"\\nMore\\nI can't make any real suggestions on ...      0\n",
       "4           4  You, sir, are my hero. Any chance you remember...      0"
      ]
     },
     "execution_count": 3,
     "metadata": {},
     "output_type": "execute_result"
    }
   ],
   "source": [
    "data.head()"
   ]
  },
  {
   "cell_type": "code",
   "execution_count": 4,
   "metadata": {},
   "outputs": [
    {
     "name": "stdout",
     "output_type": "stream",
     "text": [
      "<class 'pandas.core.frame.DataFrame'>\n",
      "RangeIndex: 159292 entries, 0 to 159291\n",
      "Data columns (total 3 columns):\n",
      " #   Column      Non-Null Count   Dtype \n",
      "---  ------      --------------   ----- \n",
      " 0   Unnamed: 0  159292 non-null  int64 \n",
      " 1   text        159292 non-null  object\n",
      " 2   toxic       159292 non-null  int64 \n",
      "dtypes: int64(2), object(1)\n",
      "memory usage: 3.6+ MB\n"
     ]
    }
   ],
   "source": [
    "data.info()"
   ]
  },
  {
   "cell_type": "code",
   "execution_count": 5,
   "metadata": {},
   "outputs": [
    {
     "data": {
      "text/plain": [
       "Unnamed: 0    0\n",
       "text          0\n",
       "toxic         0\n",
       "dtype: int64"
      ]
     },
     "execution_count": 5,
     "metadata": {},
     "output_type": "execute_result"
    }
   ],
   "source": [
    "data.isna().sum()"
   ]
  },
  {
   "cell_type": "code",
   "execution_count": 6,
   "metadata": {},
   "outputs": [
    {
     "data": {
      "text/plain": [
       "0"
      ]
     },
     "execution_count": 6,
     "metadata": {},
     "output_type": "execute_result"
    }
   ],
   "source": [
    "data.duplicated().sum()"
   ]
  },
  {
   "cell_type": "code",
   "execution_count": 7,
   "metadata": {},
   "outputs": [
    {
     "data": {
      "text/plain": [
       "Unnamed: 0    159292\n",
       "text          159292\n",
       "toxic              2\n",
       "dtype: int64"
      ]
     },
     "execution_count": 7,
     "metadata": {},
     "output_type": "execute_result"
    }
   ],
   "source": [
    "data.nunique()"
   ]
  },
  {
   "cell_type": "markdown",
   "metadata": {},
   "source": [
    "The data consists of two columns: 'text' contains the text of the comment, 'toxic' - the target attribute. There are no duplicates or missing values. Consider the distribution of the target feature:"
   ]
  },
  {
   "cell_type": "code",
   "execution_count": 8,
   "metadata": {},
   "outputs": [
    {
     "data": {
      "text/plain": [
       "<AxesSubplot:>"
      ]
     },
     "execution_count": 8,
     "metadata": {},
     "output_type": "execute_result"
    },
    {
     "data": {
      "image/png": "[encoded data removed]",
      "text/plain": [
       "<Figure size 432x288 with 1 Axes>"
      ]
     },
     "metadata": {
      "needs_background": "light"
     },
     "output_type": "display_data"
    }
   ],
   "source": [
    "data['toxic'].value_counts().plot(kind='bar')"
   ]
  },
  {
   "cell_type": "markdown",
   "metadata": {},
   "source": [
    "So, a preliminary analysis of the data showed that it:\n",
    "* 159292 lines\n",
    "* There are no duplicates or omissions\n",
    "* 2 columns: toxic, text\n",
    "* The text column contains the texts of the tweets\n",
    "* Toxic tweets are marked in the toxic column\n",
    "* 90% of tweets are non-toxic"
   ]
  },
  {
   "cell_type": "code",
   "execution_count": 9,
   "metadata": {},
   "outputs": [],
   "source": [
    "def clean_text(text):\n",
    "    text = text.lower()\n",
    "    text = re.sub(r\"what's\", \"what is \", text)\n",
    "    text = re.sub(r\"\\'s\", \" \", text)\n",
    "    text = re.sub(r\"\\'ve\", \" have \", text)\n",
    "    text = re.sub(r\"can't\", \"cannot \", text)\n",
    "    text = re.sub(r\"n't\", \" not \", text)\n",
    "    text = re.sub(r\"i'm\", \"i am \", text)\n",
    "    text = re.sub(r\"\\'re\", \" are \", text)\n",
    "    text = re.sub(r\"\\'d\", \" would \", text)\n",
    "    text = re.sub(r\"\\'ll\", \" will \", text)\n",
    "    text = re.sub('\\W', ' ', text)\n",
    "    text = re.sub('\\s+', ' ', text)\n",
    "    text = text.strip(' ')\n",
    "    return text"
   ]
  },
  {
   "cell_type": "code",
   "execution_count": 10,
   "metadata": {},
   "outputs": [
    {
     "name": "stdout",
     "output_type": "stream",
     "text": [
      "CPU times: user 7.48 s, sys: 95.9 ms, total: 7.58 s\n",
      "Wall time: 7.59 s\n"
     ]
    }
   ],
   "source": [
    "%%time\n",
    "data['text'] = data['text'].map(lambda x: clean_text(x))"
   ]
  },
  {
   "cell_type": "markdown",
   "metadata": {},
   "source": [
    "The data was processed from unnecessary characters: unnecessary omissions, html tags, single characters, including at the beginning of the line."
   ]
  },
  {
   "cell_type": "markdown",
   "metadata": {},
   "source": [
    "## Training"
   ]
  },
  {
   "cell_type": "markdown",
   "metadata": {},
   "source": [
    "Let's split the data into training and test samples:"
   ]
  },
  {
   "cell_type": "code",
   "execution_count": 11,
   "metadata": {},
   "outputs": [],
   "source": [
    "features = data['text']\n",
    "target = data['toxic']\n",
    "RANDOM_STATE = 12345\n",
    "features_train, features_test, target_train, target_test = train_test_split(\n",
    "    features, target, test_size=0.25, random_state=RANDOM_STATE)"
   ]
  },
  {
   "cell_type": "markdown",
   "metadata": {},
   "source": [
    "Let's upload stop words:"
   ]
  },
  {
   "cell_type": "code",
   "execution_count": 12,
   "metadata": {},
   "outputs": [
    {
     "name": "stderr",
     "output_type": "stream",
     "text": [
      "[nltk_data] Downloading package stopwords to /home/jovyan/nltk_data...\n",
      "[nltk_data]   Package stopwords is already up-to-date!\n"
     ]
    }
   ],
   "source": [
    "nltk.download('stopwords')\n",
    "stopwords = set(nltk_stopwords.words('english'))"
   ]
  },
  {
   "cell_type": "markdown",
   "metadata": {},
   "source": [
    "Let's create a counter by specifying stop words in it:"
   ]
  },
  {
   "cell_type": "code",
   "execution_count": 13,
   "metadata": {},
   "outputs": [],
   "source": [
    "count_tf_idf = TfidfVectorizer(stop_words=stopwords)"
   ]
  },
  {
   "cell_type": "markdown",
   "metadata": {},
   "source": [
    "Then we'll count TD-IDF:"
   ]
  },
  {
   "cell_type": "code",
   "execution_count": 14,
   "metadata": {},
   "outputs": [],
   "source": [
    "tf_idf = count_tf_idf.fit(features_train)"
   ]
  },
  {
   "cell_type": "markdown",
   "metadata": {},
   "source": [
    "Now we'll create features:"
   ]
  },
  {
   "cell_type": "code",
   "execution_count": 15,
   "metadata": {},
   "outputs": [],
   "source": [
    "features_train = tf_idf.transform(features_train)\n",
    "features_test = tf_idf.transform(features_test)"
   ]
  },
  {
   "cell_type": "markdown",
   "metadata": {},
   "source": [
    "Let's create a function for training models, searching for f1 and the best hyperparameters:"
   ]
  },
  {
   "cell_type": "code",
   "execution_count": 16,
   "metadata": {},
   "outputs": [],
   "source": [
    "def model_look (model, parameters, features, target):\n",
    "    model_grid = GridSearchCV(model, parameters, cv=5, scoring='f1', verbose=5)\n",
    "    model_grid.fit(features, target)\n",
    "    return model_grid.best_score_, model_grid.best_params_"
   ]
  },
  {
   "cell_type": "markdown",
   "metadata": {},
   "source": [
    "### LogisticRegression"
   ]
  },
  {
   "cell_type": "code",
   "execution_count": 17,
   "metadata": {},
   "outputs": [
    {
     "name": "stdout",
     "output_type": "stream",
     "text": [
      "Fitting 5 folds for each of 6 candidates, totalling 30 fits\n",
      "[CV 1/5] END ...............................C=23, max_iter=8; total time=   5.3s\n",
      "[CV 2/5] END ...............................C=23, max_iter=8; total time=   5.3s\n",
      "[CV 3/5] END ...............................C=23, max_iter=8; total time=   5.2s\n",
      "[CV 4/5] END ...............................C=23, max_iter=8; total time=   5.3s\n",
      "[CV 5/5] END ...............................C=23, max_iter=8; total time=   5.2s\n",
      "[CV 1/5] END ...............................C=23, max_iter=9; total time=   5.8s\n",
      "[CV 2/5] END ...............................C=23, max_iter=9; total time=   5.9s\n",
      "[CV 3/5] END ...............................C=23, max_iter=9; total time=   5.6s\n",
      "[CV 4/5] END ...............................C=23, max_iter=9; total time=   5.8s\n",
      "[CV 5/5] END ...............................C=23, max_iter=9; total time=   5.9s\n",
      "[CV 1/5] END ...............................C=24, max_iter=8; total time=   5.3s\n",
      "[CV 2/5] END ...............................C=24, max_iter=8; total time=   5.1s\n",
      "[CV 3/5] END ...............................C=24, max_iter=8; total time=   5.3s\n",
      "[CV 4/5] END ...............................C=24, max_iter=8; total time=   5.3s\n",
      "[CV 5/5] END ...............................C=24, max_iter=8; total time=   5.2s\n",
      "[CV 1/5] END ...............................C=24, max_iter=9; total time=   5.9s\n",
      "[CV 2/5] END ...............................C=24, max_iter=9; total time=   5.9s\n",
      "[CV 3/5] END ...............................C=24, max_iter=9; total time=   5.9s\n",
      "[CV 4/5] END ...............................C=24, max_iter=9; total time=   5.9s\n",
      "[CV 5/5] END ...............................C=24, max_iter=9; total time=   5.9s\n",
      "[CV 1/5] END ...............................C=25, max_iter=8; total time=   5.1s\n",
      "[CV 2/5] END ...............................C=25, max_iter=8; total time=   5.2s\n",
      "[CV 3/5] END ...............................C=25, max_iter=8; total time=   5.2s\n",
      "[CV 4/5] END ...............................C=25, max_iter=8; total time=   5.3s\n",
      "[CV 5/5] END ...............................C=25, max_iter=8; total time=   5.3s\n",
      "[CV 1/5] END ...............................C=25, max_iter=9; total time=   5.8s\n",
      "[CV 2/5] END ...............................C=25, max_iter=9; total time=   5.8s\n",
      "[CV 3/5] END ...............................C=25, max_iter=9; total time=   5.9s\n",
      "[CV 4/5] END ...............................C=25, max_iter=9; total time=   5.8s\n",
      "[CV 5/5] END ...............................C=25, max_iter=9; total time=   5.8s\n"
     ]
    },
    {
     "data": {
      "text/plain": [
       "'Best parameters'"
      ]
     },
     "metadata": {},
     "output_type": "display_data"
    },
    {
     "data": {
      "text/plain": [
       "{'C': 25, 'max_iter': 8}"
      ]
     },
     "metadata": {},
     "output_type": "display_data"
    },
    {
     "data": {
      "text/plain": [
       "'F1 of a model:'"
      ]
     },
     "metadata": {},
     "output_type": "display_data"
    },
    {
     "data": {
      "text/plain": [
       "0.7643145224279749"
      ]
     },
     "metadata": {},
     "output_type": "display_data"
    }
   ],
   "source": [
    "parameters = {'C': range(23, 26, 1), 'max_iter': range(8, 10, 1)}\n",
    "f1, best_parameters = model_look (LogisticRegression(random_state=RANDOM_STATE, solver='liblinear'), parameters, features_train, target_train)\n",
    "display('Best parameters', best_parameters)\n",
    "display('F1 of a model:', f1)"
   ]
  },
  {
   "cell_type": "code",
   "execution_count": 18,
   "metadata": {},
   "outputs": [
    {
     "data": {
      "text/html": [
       "<div>\n",
       "<style scoped>\n",
       "    .dataframe tbody tr th:only-of-type {\n",
       "        vertical-align: middle;\n",
       "    }\n",
       "\n",
       "    .dataframe tbody tr th {\n",
       "        vertical-align: top;\n",
       "    }\n",
       "\n",
       "    .dataframe thead th {\n",
       "        text-align: right;\n",
       "    }\n",
       "</style>\n",
       "<table border=\"1\" class=\"dataframe\">\n",
       "  <thead>\n",
       "    <tr style=\"text-align: right;\">\n",
       "      <th></th>\n",
       "      <th>model</th>\n",
       "      <th>best_parameters_train</th>\n",
       "      <th>f1_train</th>\n",
       "    </tr>\n",
       "  </thead>\n",
       "  <tbody>\n",
       "    <tr>\n",
       "      <th>0</th>\n",
       "      <td>LogisticRegression</td>\n",
       "      <td>{'C': 25, 'max_iter': 8}</td>\n",
       "      <td>0.764315</td>\n",
       "    </tr>\n",
       "  </tbody>\n",
       "</table>\n",
       "</div>"
      ],
      "text/plain": [
       "                model     best_parameters_train  f1_train\n",
       "0  LogisticRegression  {'C': 25, 'max_iter': 8}  0.764315"
      ]
     },
     "execution_count": 18,
     "metadata": {},
     "output_type": "execute_result"
    }
   ],
   "source": [
    "results = pd.DataFrame ({'model':['LogisticRegression'], 'best_parameters_train':[best_parameters], 'f1_train':[f1]})\n",
    "results"
   ]
  },
  {
   "cell_type": "markdown",
   "metadata": {},
   "source": [
    "### DecisionTree"
   ]
  },
  {
   "cell_type": "code",
   "execution_count": 19,
   "metadata": {},
   "outputs": [
    {
     "name": "stdout",
     "output_type": "stream",
     "text": [
      "Fitting 5 folds for each of 2 candidates, totalling 10 fits\n",
      "[CV 1/5] END ..................................max_depth=122; total time=  50.8s\n",
      "[CV 2/5] END ..................................max_depth=122; total time=  50.7s\n",
      "[CV 3/5] END ..................................max_depth=122; total time=  50.6s\n",
      "[CV 4/5] END ..................................max_depth=122; total time=  50.1s\n",
      "[CV 5/5] END ..................................max_depth=122; total time=  50.5s\n",
      "[CV 1/5] END ..................................max_depth=123; total time=  51.1s\n",
      "[CV 2/5] END ..................................max_depth=123; total time=  50.8s\n",
      "[CV 3/5] END ..................................max_depth=123; total time=  50.4s\n",
      "[CV 4/5] END ..................................max_depth=123; total time=  50.1s\n",
      "[CV 5/5] END ..................................max_depth=123; total time=  50.4s\n"
     ]
    },
    {
     "data": {
      "text/plain": [
       "'Best parameters:'"
      ]
     },
     "metadata": {},
     "output_type": "display_data"
    },
    {
     "data": {
      "text/plain": [
       "{'max_depth': 123}"
      ]
     },
     "metadata": {},
     "output_type": "display_data"
    },
    {
     "data": {
      "text/plain": [
       "'F1 of a model:'"
      ]
     },
     "metadata": {},
     "output_type": "display_data"
    },
    {
     "data": {
      "text/plain": [
       "0.7221519982465496"
      ]
     },
     "metadata": {},
     "output_type": "display_data"
    }
   ],
   "source": [
    "parameters = {'max_depth': range(122, 124, 1)}\n",
    "f1, best_parameters = model_look (DecisionTreeClassifier(random_state=RANDOM_STATE), parameters, features_train, target_train)\n",
    "display('Best parameters:', best_parameters)\n",
    "display('F1 of a model:', f1)"
   ]
  },
  {
   "cell_type": "code",
   "execution_count": 20,
   "metadata": {},
   "outputs": [
    {
     "data": {
      "text/html": [
       "<div>\n",
       "<style scoped>\n",
       "    .dataframe tbody tr th:only-of-type {\n",
       "        vertical-align: middle;\n",
       "    }\n",
       "\n",
       "    .dataframe tbody tr th {\n",
       "        vertical-align: top;\n",
       "    }\n",
       "\n",
       "    .dataframe thead th {\n",
       "        text-align: right;\n",
       "    }\n",
       "</style>\n",
       "<table border=\"1\" class=\"dataframe\">\n",
       "  <thead>\n",
       "    <tr style=\"text-align: right;\">\n",
       "      <th></th>\n",
       "      <th>model</th>\n",
       "      <th>best_parameters_train</th>\n",
       "      <th>f1_train</th>\n",
       "    </tr>\n",
       "  </thead>\n",
       "  <tbody>\n",
       "    <tr>\n",
       "      <th>0</th>\n",
       "      <td>LogisticRegression</td>\n",
       "      <td>{'C': 25, 'max_iter': 8}</td>\n",
       "      <td>0.764315</td>\n",
       "    </tr>\n",
       "    <tr>\n",
       "      <th>1</th>\n",
       "      <td>DecisionTreeClassifier</td>\n",
       "      <td>{'max_depth': 123}</td>\n",
       "      <td>0.722152</td>\n",
       "    </tr>\n",
       "  </tbody>\n",
       "</table>\n",
       "</div>"
      ],
      "text/plain": [
       "                    model     best_parameters_train  f1_train\n",
       "0      LogisticRegression  {'C': 25, 'max_iter': 8}  0.764315\n",
       "1  DecisionTreeClassifier        {'max_depth': 123}  0.722152"
      ]
     },
     "execution_count": 20,
     "metadata": {},
     "output_type": "execute_result"
    }
   ],
   "source": [
    "results = results.append({'model':'DecisionTreeClassifier', 'best_parameters_train':best_parameters, 'f1_train':f1}, ignore_index=True)\n",
    "results"
   ]
  },
  {
   "cell_type": "markdown",
   "metadata": {},
   "source": [
    "### RandomForest"
   ]
  },
  {
   "cell_type": "code",
   "execution_count": 21,
   "metadata": {},
   "outputs": [
    {
     "name": "stdout",
     "output_type": "stream",
     "text": [
      "Fitting 5 folds for each of 9 candidates, totalling 45 fits\n",
      "[CV 1/5] END ..................max_depth=213, n_estimators=3; total time=  12.2s\n",
      "[CV 2/5] END ..................max_depth=213, n_estimators=3; total time=  12.2s\n",
      "[CV 3/5] END ..................max_depth=213, n_estimators=3; total time=  12.6s\n",
      "[CV 4/5] END ..................max_depth=213, n_estimators=3; total time=  12.5s\n",
      "[CV 5/5] END ..................max_depth=213, n_estimators=3; total time=  11.9s\n",
      "[CV 1/5] END ..................max_depth=213, n_estimators=4; total time=  16.4s\n",
      "[CV 2/5] END ..................max_depth=213, n_estimators=4; total time=  16.7s\n",
      "[CV 3/5] END ..................max_depth=213, n_estimators=4; total time=  16.8s\n",
      "[CV 4/5] END ..................max_depth=213, n_estimators=4; total time=  16.5s\n",
      "[CV 5/5] END ..................max_depth=213, n_estimators=4; total time=  16.4s\n",
      "[CV 1/5] END ..................max_depth=213, n_estimators=5; total time=  20.4s\n",
      "[CV 2/5] END ..................max_depth=213, n_estimators=5; total time=  20.5s\n",
      "[CV 3/5] END ..................max_depth=213, n_estimators=5; total time=  21.5s\n",
      "[CV 4/5] END ..................max_depth=213, n_estimators=5; total time=  21.6s\n",
      "[CV 5/5] END ..................max_depth=213, n_estimators=5; total time=  20.2s\n",
      "[CV 1/5] END ..................max_depth=214, n_estimators=3; total time=  12.5s\n",
      "[CV 2/5] END ..................max_depth=214, n_estimators=3; total time=  12.5s\n",
      "[CV 3/5] END ..................max_depth=214, n_estimators=3; total time=  12.8s\n",
      "[CV 4/5] END ..................max_depth=214, n_estimators=3; total time=  12.3s\n",
      "[CV 5/5] END ..................max_depth=214, n_estimators=3; total time=  12.1s\n",
      "[CV 1/5] END ..................max_depth=214, n_estimators=4; total time=  16.5s\n",
      "[CV 2/5] END ..................max_depth=214, n_estimators=4; total time=  16.5s\n",
      "[CV 3/5] END ..................max_depth=214, n_estimators=4; total time=  16.7s\n",
      "[CV 4/5] END ..................max_depth=214, n_estimators=4; total time=  16.5s\n",
      "[CV 5/5] END ..................max_depth=214, n_estimators=4; total time=  16.1s\n",
      "[CV 1/5] END ..................max_depth=214, n_estimators=5; total time=  20.5s\n",
      "[CV 2/5] END ..................max_depth=214, n_estimators=5; total time=  20.6s\n",
      "[CV 3/5] END ..................max_depth=214, n_estimators=5; total time=  21.1s\n",
      "[CV 4/5] END ..................max_depth=214, n_estimators=5; total time=  21.6s\n",
      "[CV 5/5] END ..................max_depth=214, n_estimators=5; total time=  20.2s\n",
      "[CV 1/5] END ..................max_depth=215, n_estimators=3; total time=  12.2s\n",
      "[CV 2/5] END ..................max_depth=215, n_estimators=3; total time=  12.4s\n",
      "[CV 3/5] END ..................max_depth=215, n_estimators=3; total time=  12.6s\n",
      "[CV 4/5] END ..................max_depth=215, n_estimators=3; total time=  12.3s\n",
      "[CV 5/5] END ..................max_depth=215, n_estimators=3; total time=  12.4s\n",
      "[CV 1/5] END ..................max_depth=215, n_estimators=4; total time=  16.3s\n",
      "[CV 2/5] END ..................max_depth=215, n_estimators=4; total time=  16.8s\n",
      "[CV 3/5] END ..................max_depth=215, n_estimators=4; total time=  16.6s\n",
      "[CV 4/5] END ..................max_depth=215, n_estimators=4; total time=  16.6s\n",
      "[CV 5/5] END ..................max_depth=215, n_estimators=4; total time=  16.4s\n",
      "[CV 1/5] END ..................max_depth=215, n_estimators=5; total time=  20.5s\n",
      "[CV 2/5] END ..................max_depth=215, n_estimators=5; total time=  20.7s\n",
      "[CV 3/5] END ..................max_depth=215, n_estimators=5; total time=  20.6s\n",
      "[CV 4/5] END ..................max_depth=215, n_estimators=5; total time=  20.6s\n",
      "[CV 5/5] END ..................max_depth=215, n_estimators=5; total time=  20.6s\n"
     ]
    },
    {
     "data": {
      "text/plain": [
       "'Best parameters:'"
      ]
     },
     "metadata": {},
     "output_type": "display_data"
    },
    {
     "data": {
      "text/plain": [
       "{'max_depth': 215, 'n_estimators': 4}"
      ]
     },
     "metadata": {},
     "output_type": "display_data"
    },
    {
     "data": {
      "text/plain": [
       "'F1 of a model:'"
      ]
     },
     "metadata": {},
     "output_type": "display_data"
    },
    {
     "data": {
      "text/plain": [
       "0.5559801829555623"
      ]
     },
     "metadata": {},
     "output_type": "display_data"
    }
   ],
   "source": [
    "parameters = {'max_depth': range(213, 216, 1), 'n_estimators': range(3, 6, 1)}\n",
    "f1, best_parameters = model_look (RandomForestClassifier(random_state=RANDOM_STATE), parameters, features_train, target_train)\n",
    "display('Best parameters:', best_parameters)\n",
    "display('F1 of a model:', f1)"
   ]
  },
  {
   "cell_type": "code",
   "execution_count": 22,
   "metadata": {},
   "outputs": [
    {
     "data": {
      "text/html": [
       "<div>\n",
       "<style scoped>\n",
       "    .dataframe tbody tr th:only-of-type {\n",
       "        vertical-align: middle;\n",
       "    }\n",
       "\n",
       "    .dataframe tbody tr th {\n",
       "        vertical-align: top;\n",
       "    }\n",
       "\n",
       "    .dataframe thead th {\n",
       "        text-align: right;\n",
       "    }\n",
       "</style>\n",
       "<table border=\"1\" class=\"dataframe\">\n",
       "  <thead>\n",
       "    <tr style=\"text-align: right;\">\n",
       "      <th></th>\n",
       "      <th>model</th>\n",
       "      <th>best_parameters_train</th>\n",
       "      <th>f1_train</th>\n",
       "    </tr>\n",
       "  </thead>\n",
       "  <tbody>\n",
       "    <tr>\n",
       "      <th>0</th>\n",
       "      <td>LogisticRegression</td>\n",
       "      <td>{'C': 25, 'max_iter': 8}</td>\n",
       "      <td>0.764315</td>\n",
       "    </tr>\n",
       "    <tr>\n",
       "      <th>1</th>\n",
       "      <td>DecisionTreeClassifier</td>\n",
       "      <td>{'max_depth': 123}</td>\n",
       "      <td>0.722152</td>\n",
       "    </tr>\n",
       "    <tr>\n",
       "      <th>2</th>\n",
       "      <td>RandomForestClassifier</td>\n",
       "      <td>{'max_depth': 215, 'n_estimators': 4}</td>\n",
       "      <td>0.555980</td>\n",
       "    </tr>\n",
       "  </tbody>\n",
       "</table>\n",
       "</div>"
      ],
      "text/plain": [
       "                    model                  best_parameters_train  f1_train\n",
       "0      LogisticRegression               {'C': 25, 'max_iter': 8}  0.764315\n",
       "1  DecisionTreeClassifier                     {'max_depth': 123}  0.722152\n",
       "2  RandomForestClassifier  {'max_depth': 215, 'n_estimators': 4}  0.555980"
      ]
     },
     "execution_count": 22,
     "metadata": {},
     "output_type": "execute_result"
    }
   ],
   "source": [
    "results = results.append({'model':'RandomForestClassifier', 'best_parameters_train':best_parameters, 'f1_train':f1}, ignore_index=True)\n",
    "results"
   ]
  },
  {
   "cell_type": "markdown",
   "metadata": {},
   "source": [
    "### CatBoostClassifier"
   ]
  },
  {
   "cell_type": "code",
   "execution_count": null,
   "metadata": {},
   "outputs": [
    {
     "name": "stdout",
     "output_type": "stream",
     "text": [
      "Fitting 5 folds for each of 2 candidates, totalling 10 fits\n",
      "Learning rate set to 0.072201\n",
      "0:\tlearn: 0.6182917\ttotal: 2.57s\tremaining: 42m 46s\n",
      "1:\tlearn: 0.5563423\ttotal: 4.51s\tremaining: 37m 31s\n",
      "2:\tlearn: 0.5049673\ttotal: 6.37s\tremaining: 35m 18s\n",
      "3:\tlearn: 0.4623477\ttotal: 8.2s\tremaining: 34m 2s\n",
      "4:\tlearn: 0.4262664\ttotal: 10.1s\tremaining: 33m 24s\n",
      "5:\tlearn: 0.3973694\ttotal: 12s\tremaining: 33m 2s\n",
      "6:\tlearn: 0.3729732\ttotal: 13.8s\tremaining: 32m 43s\n",
      "7:\tlearn: 0.3509088\ttotal: 15.8s\tremaining: 32m 33s\n",
      "8:\tlearn: 0.3332855\ttotal: 17.6s\tremaining: 32m 20s\n",
      "9:\tlearn: 0.3181264\ttotal: 19.5s\tremaining: 32m 15s\n",
      "10:\tlearn: 0.3051962\ttotal: 21.4s\tremaining: 32m 7s\n",
      "11:\tlearn: 0.2942701\ttotal: 23.3s\tremaining: 32m 2s\n",
      "12:\tlearn: 0.2852350\ttotal: 25.3s\tremaining: 32m 1s\n",
      "13:\tlearn: 0.2774701\ttotal: 27.2s\tremaining: 31m 57s\n",
      "14:\tlearn: 0.2704792\ttotal: 29.1s\tremaining: 31m 51s\n",
      "15:\tlearn: 0.2648528\ttotal: 31s\tremaining: 31m 43s\n",
      "16:\tlearn: 0.2593000\ttotal: 32.9s\tremaining: 31m 39s\n",
      "17:\tlearn: 0.2545202\ttotal: 34.8s\tremaining: 31m 36s\n",
      "18:\tlearn: 0.2503632\ttotal: 36.6s\tremaining: 31m 31s\n",
      "19:\tlearn: 0.2459138\ttotal: 38.5s\tremaining: 31m 27s\n",
      "20:\tlearn: 0.2428333\ttotal: 40.4s\tremaining: 31m 22s\n",
      "21:\tlearn: 0.2400608\ttotal: 42.3s\tremaining: 31m 19s\n",
      "22:\tlearn: 0.2367261\ttotal: 44.2s\tremaining: 31m 17s\n",
      "23:\tlearn: 0.2345570\ttotal: 46s\tremaining: 31m 11s\n",
      "24:\tlearn: 0.2323739\ttotal: 47.9s\tremaining: 31m 6s\n",
      "25:\tlearn: 0.2303119\ttotal: 49.7s\tremaining: 31m 1s\n",
      "26:\tlearn: 0.2281285\ttotal: 51.5s\tremaining: 30m 57s\n",
      "27:\tlearn: 0.2265784\ttotal: 53.3s\tremaining: 30m 51s\n",
      "28:\tlearn: 0.2251900\ttotal: 55.2s\tremaining: 30m 48s\n",
      "29:\tlearn: 0.2237880\ttotal: 57.1s\tremaining: 30m 44s\n",
      "30:\tlearn: 0.2225790\ttotal: 58.9s\tremaining: 30m 40s\n",
      "31:\tlearn: 0.2211998\ttotal: 1m\tremaining: 30m 34s\n",
      "32:\tlearn: 0.2198604\ttotal: 1m 2s\tremaining: 30m 30s\n",
      "33:\tlearn: 0.2185612\ttotal: 1m 4s\tremaining: 30m 27s\n",
      "34:\tlearn: 0.2174494\ttotal: 1m 6s\tremaining: 30m 23s\n",
      "35:\tlearn: 0.2161199\ttotal: 1m 7s\tremaining: 30m 20s\n",
      "36:\tlearn: 0.2149229\ttotal: 1m 9s\tremaining: 30m 17s\n",
      "37:\tlearn: 0.2140479\ttotal: 1m 11s\tremaining: 30m 13s\n",
      "38:\tlearn: 0.2131730\ttotal: 1m 13s\tremaining: 30m 9s\n",
      "39:\tlearn: 0.2121908\ttotal: 1m 15s\tremaining: 30m 5s\n",
      "40:\tlearn: 0.2113633\ttotal: 1m 17s\tremaining: 30m 1s\n",
      "41:\tlearn: 0.2102554\ttotal: 1m 18s\tremaining: 29m 59s\n",
      "42:\tlearn: 0.2094416\ttotal: 1m 20s\tremaining: 29m 55s\n",
      "43:\tlearn: 0.2087733\ttotal: 1m 22s\tremaining: 29m 51s\n",
      "44:\tlearn: 0.2076247\ttotal: 1m 24s\tremaining: 29m 49s\n",
      "45:\tlearn: 0.2067677\ttotal: 1m 26s\tremaining: 29m 46s\n",
      "46:\tlearn: 0.2061928\ttotal: 1m 27s\tremaining: 29m 42s\n",
      "47:\tlearn: 0.2055587\ttotal: 1m 29s\tremaining: 29m 38s\n",
      "48:\tlearn: 0.2049411\ttotal: 1m 31s\tremaining: 29m 34s\n",
      "49:\tlearn: 0.2042012\ttotal: 1m 33s\tremaining: 29m 32s\n",
      "50:\tlearn: 0.2036406\ttotal: 1m 35s\tremaining: 29m 28s\n",
      "51:\tlearn: 0.2030593\ttotal: 1m 36s\tremaining: 29m 25s\n",
      "52:\tlearn: 0.2025010\ttotal: 1m 38s\tremaining: 29m 20s\n",
      "53:\tlearn: 0.2018548\ttotal: 1m 40s\tremaining: 29m 17s\n",
      "54:\tlearn: 0.2012119\ttotal: 1m 42s\tremaining: 29m 14s\n",
      "55:\tlearn: 0.2006667\ttotal: 1m 43s\tremaining: 29m 12s\n",
      "56:\tlearn: 0.2000649\ttotal: 1m 45s\tremaining: 29m 9s\n",
      "57:\tlearn: 0.1995112\ttotal: 1m 47s\tremaining: 29m 6s\n",
      "58:\tlearn: 0.1986805\ttotal: 1m 49s\tremaining: 29m 4s\n",
      "59:\tlearn: 0.1981886\ttotal: 1m 51s\tremaining: 28m 59s\n",
      "60:\tlearn: 0.1975509\ttotal: 1m 52s\tremaining: 28m 56s\n",
      "61:\tlearn: 0.1970641\ttotal: 1m 54s\tremaining: 28m 54s\n",
      "62:\tlearn: 0.1965613\ttotal: 1m 56s\tremaining: 28m 51s\n",
      "63:\tlearn: 0.1957680\ttotal: 1m 58s\tremaining: 28m 49s\n",
      "64:\tlearn: 0.1952207\ttotal: 1m 59s\tremaining: 28m 46s\n",
      "65:\tlearn: 0.1942785\ttotal: 2m 1s\tremaining: 28m 43s\n",
      "66:\tlearn: 0.1937245\ttotal: 2m 3s\tremaining: 28m 40s\n",
      "67:\tlearn: 0.1933323\ttotal: 2m 5s\tremaining: 28m 38s\n",
      "68:\tlearn: 0.1929406\ttotal: 2m 7s\tremaining: 28m 35s\n",
      "69:\tlearn: 0.1924981\ttotal: 2m 8s\tremaining: 28m 33s\n",
      "70:\tlearn: 0.1919120\ttotal: 2m 10s\tremaining: 28m 31s\n",
      "71:\tlearn: 0.1914515\ttotal: 2m 12s\tremaining: 28m 28s\n",
      "72:\tlearn: 0.1910282\ttotal: 2m 14s\tremaining: 28m 25s\n",
      "73:\tlearn: 0.1906505\ttotal: 2m 16s\tremaining: 28m 23s\n",
      "74:\tlearn: 0.1902517\ttotal: 2m 17s\tremaining: 28m 20s\n",
      "75:\tlearn: 0.1896943\ttotal: 2m 19s\tremaining: 28m 18s\n",
      "76:\tlearn: 0.1893589\ttotal: 2m 21s\tremaining: 28m 16s\n",
      "77:\tlearn: 0.1889711\ttotal: 2m 23s\tremaining: 28m 13s\n",
      "78:\tlearn: 0.1884011\ttotal: 2m 25s\tremaining: 28m 11s\n",
      "79:\tlearn: 0.1879449\ttotal: 2m 26s\tremaining: 28m 9s\n",
      "80:\tlearn: 0.1876017\ttotal: 2m 28s\tremaining: 28m 7s\n",
      "81:\tlearn: 0.1873067\ttotal: 2m 30s\tremaining: 28m 4s\n",
      "82:\tlearn: 0.1867961\ttotal: 2m 32s\tremaining: 28m 2s\n",
      "83:\tlearn: 0.1864709\ttotal: 2m 34s\tremaining: 28m\n",
      "84:\tlearn: 0.1861170\ttotal: 2m 35s\tremaining: 27m 58s\n",
      "85:\tlearn: 0.1857625\ttotal: 2m 37s\tremaining: 27m 56s\n",
      "86:\tlearn: 0.1854969\ttotal: 2m 39s\tremaining: 27m 54s\n",
      "87:\tlearn: 0.1849771\ttotal: 2m 41s\tremaining: 27m 51s\n",
      "88:\tlearn: 0.1846132\ttotal: 2m 43s\tremaining: 27m 49s\n",
      "89:\tlearn: 0.1841979\ttotal: 2m 44s\tremaining: 27m 47s\n",
      "90:\tlearn: 0.1839069\ttotal: 2m 46s\tremaining: 27m 44s\n",
      "91:\tlearn: 0.1835712\ttotal: 2m 48s\tremaining: 27m 42s\n",
      "92:\tlearn: 0.1831135\ttotal: 2m 50s\tremaining: 27m 40s\n",
      "93:\tlearn: 0.1827743\ttotal: 2m 52s\tremaining: 27m 37s\n",
      "94:\tlearn: 0.1824778\ttotal: 2m 53s\tremaining: 27m 36s\n",
      "95:\tlearn: 0.1821892\ttotal: 2m 55s\tremaining: 27m 33s\n",
      "96:\tlearn: 0.1818788\ttotal: 2m 57s\tremaining: 27m 31s\n",
      "97:\tlearn: 0.1815131\ttotal: 2m 59s\tremaining: 27m 29s\n",
      "98:\tlearn: 0.1811191\ttotal: 3m\tremaining: 27m 26s\n",
      "99:\tlearn: 0.1806424\ttotal: 3m 2s\tremaining: 27m 24s\n",
      "100:\tlearn: 0.1803381\ttotal: 3m 4s\tremaining: 27m 22s\n",
      "101:\tlearn: 0.1800571\ttotal: 3m 6s\tremaining: 27m 20s\n",
      "102:\tlearn: 0.1798362\ttotal: 3m 8s\tremaining: 27m 17s\n",
      "103:\tlearn: 0.1794299\ttotal: 3m 9s\tremaining: 27m 15s\n",
      "104:\tlearn: 0.1791331\ttotal: 3m 11s\tremaining: 27m 13s\n",
      "105:\tlearn: 0.1788987\ttotal: 3m 13s\tremaining: 27m 10s\n",
      "106:\tlearn: 0.1785731\ttotal: 3m 15s\tremaining: 27m 8s\n",
      "107:\tlearn: 0.1781972\ttotal: 3m 17s\tremaining: 27m 7s\n",
      "108:\tlearn: 0.1779022\ttotal: 3m 18s\tremaining: 27m 4s\n",
      "109:\tlearn: 0.1776380\ttotal: 3m 20s\tremaining: 27m 2s\n",
      "110:\tlearn: 0.1773766\ttotal: 3m 22s\tremaining: 26m 59s\n",
      "111:\tlearn: 0.1771542\ttotal: 3m 24s\tremaining: 26m 58s\n",
      "112:\tlearn: 0.1768065\ttotal: 3m 26s\tremaining: 26m 57s\n",
      "113:\tlearn: 0.1764921\ttotal: 3m 27s\tremaining: 26m 55s\n",
      "114:\tlearn: 0.1762538\ttotal: 3m 29s\tremaining: 26m 52s\n",
      "115:\tlearn: 0.1759612\ttotal: 3m 31s\tremaining: 26m 50s\n",
      "116:\tlearn: 0.1757613\ttotal: 3m 33s\tremaining: 26m 48s\n",
      "117:\tlearn: 0.1754274\ttotal: 3m 35s\tremaining: 26m 47s\n",
      "118:\tlearn: 0.1751441\ttotal: 3m 36s\tremaining: 26m 45s\n",
      "119:\tlearn: 0.1748360\ttotal: 3m 38s\tremaining: 26m 43s\n",
      "120:\tlearn: 0.1746076\ttotal: 3m 40s\tremaining: 26m 41s\n",
      "121:\tlearn: 0.1742634\ttotal: 3m 42s\tremaining: 26m 39s\n",
      "122:\tlearn: 0.1738633\ttotal: 3m 44s\tremaining: 26m 39s\n",
      "123:\tlearn: 0.1736511\ttotal: 3m 46s\tremaining: 26m 36s\n",
      "124:\tlearn: 0.1734127\ttotal: 3m 47s\tremaining: 26m 34s\n",
      "125:\tlearn: 0.1731595\ttotal: 3m 49s\tremaining: 26m 32s\n",
      "126:\tlearn: 0.1727783\ttotal: 3m 51s\tremaining: 26m 30s\n",
      "127:\tlearn: 0.1725212\ttotal: 3m 53s\tremaining: 26m 28s\n",
      "128:\tlearn: 0.1722835\ttotal: 3m 54s\tremaining: 26m 26s\n",
      "129:\tlearn: 0.1720659\ttotal: 3m 56s\tremaining: 26m 24s\n",
      "130:\tlearn: 0.1719088\ttotal: 3m 58s\tremaining: 26m 22s\n",
      "131:\tlearn: 0.1717160\ttotal: 4m\tremaining: 26m 20s\n",
      "132:\tlearn: 0.1714833\ttotal: 4m 2s\tremaining: 26m 18s\n",
      "133:\tlearn: 0.1712356\ttotal: 4m 3s\tremaining: 26m 16s\n",
      "134:\tlearn: 0.1710374\ttotal: 4m 5s\tremaining: 26m 13s\n",
      "135:\tlearn: 0.1707418\ttotal: 4m 7s\tremaining: 26m 12s\n",
      "136:\tlearn: 0.1705223\ttotal: 4m 9s\tremaining: 26m 10s\n",
      "137:\tlearn: 0.1702941\ttotal: 4m 10s\tremaining: 26m 7s\n",
      "138:\tlearn: 0.1700911\ttotal: 4m 12s\tremaining: 26m 5s\n",
      "139:\tlearn: 0.1699121\ttotal: 4m 14s\tremaining: 26m 3s\n",
      "140:\tlearn: 0.1696115\ttotal: 4m 16s\tremaining: 26m 1s\n",
      "141:\tlearn: 0.1694204\ttotal: 4m 18s\tremaining: 25m 59s\n",
      "142:\tlearn: 0.1692204\ttotal: 4m 19s\tremaining: 25m 57s\n",
      "143:\tlearn: 0.1689448\ttotal: 4m 21s\tremaining: 25m 55s\n",
      "144:\tlearn: 0.1687346\ttotal: 4m 23s\tremaining: 25m 53s\n",
      "145:\tlearn: 0.1684557\ttotal: 4m 25s\tremaining: 25m 52s\n",
      "146:\tlearn: 0.1682610\ttotal: 4m 27s\tremaining: 25m 49s\n",
      "147:\tlearn: 0.1680112\ttotal: 4m 28s\tremaining: 25m 47s\n",
      "148:\tlearn: 0.1678348\ttotal: 4m 30s\tremaining: 25m 45s\n",
      "149:\tlearn: 0.1676338\ttotal: 4m 32s\tremaining: 25m 43s\n",
      "150:\tlearn: 0.1674678\ttotal: 4m 34s\tremaining: 25m 41s\n",
      "151:\tlearn: 0.1672665\ttotal: 4m 35s\tremaining: 25m 39s\n",
      "152:\tlearn: 0.1670980\ttotal: 4m 37s\tremaining: 25m 37s\n",
      "153:\tlearn: 0.1668884\ttotal: 4m 39s\tremaining: 25m 35s\n",
      "154:\tlearn: 0.1667005\ttotal: 4m 41s\tremaining: 25m 33s\n",
      "155:\tlearn: 0.1664873\ttotal: 4m 43s\tremaining: 25m 31s\n",
      "156:\tlearn: 0.1662255\ttotal: 4m 44s\tremaining: 25m 30s\n",
      "157:\tlearn: 0.1659276\ttotal: 4m 46s\tremaining: 25m 28s\n",
      "158:\tlearn: 0.1656826\ttotal: 4m 48s\tremaining: 25m 26s\n",
      "159:\tlearn: 0.1654296\ttotal: 4m 50s\tremaining: 25m 24s\n",
      "160:\tlearn: 0.1651727\ttotal: 4m 52s\tremaining: 25m 22s\n",
      "161:\tlearn: 0.1649963\ttotal: 4m 54s\tremaining: 25m 21s\n",
      "162:\tlearn: 0.1647836\ttotal: 4m 55s\tremaining: 25m 18s\n",
      "163:\tlearn: 0.1645975\ttotal: 4m 57s\tremaining: 25m 16s\n",
      "164:\tlearn: 0.1644241\ttotal: 4m 59s\tremaining: 25m 14s\n",
      "165:\tlearn: 0.1642669\ttotal: 5m 1s\tremaining: 25m 12s\n",
      "166:\tlearn: 0.1640197\ttotal: 5m 2s\tremaining: 25m 10s\n",
      "167:\tlearn: 0.1638379\ttotal: 5m 4s\tremaining: 25m 8s\n",
      "168:\tlearn: 0.1636463\ttotal: 5m 6s\tremaining: 25m 6s\n",
      "169:\tlearn: 0.1634895\ttotal: 5m 8s\tremaining: 25m 3s\n",
      "170:\tlearn: 0.1633442\ttotal: 5m 9s\tremaining: 25m 1s\n",
      "171:\tlearn: 0.1631002\ttotal: 5m 11s\tremaining: 24m 59s\n",
      "172:\tlearn: 0.1629572\ttotal: 5m 13s\tremaining: 24m 57s\n",
      "173:\tlearn: 0.1627781\ttotal: 5m 15s\tremaining: 24m 55s\n",
      "174:\tlearn: 0.1624866\ttotal: 5m 16s\tremaining: 24m 53s\n",
      "175:\tlearn: 0.1622912\ttotal: 5m 18s\tremaining: 24m 51s\n",
      "176:\tlearn: 0.1621678\ttotal: 5m 20s\tremaining: 24m 49s\n",
      "177:\tlearn: 0.1619752\ttotal: 5m 22s\tremaining: 24m 47s\n",
      "178:\tlearn: 0.1618055\ttotal: 5m 23s\tremaining: 24m 45s\n",
      "179:\tlearn: 0.1616256\ttotal: 5m 25s\tremaining: 24m 43s\n",
      "180:\tlearn: 0.1614899\ttotal: 5m 27s\tremaining: 24m 41s\n",
      "181:\tlearn: 0.1613569\ttotal: 5m 29s\tremaining: 24m 38s\n",
      "182:\tlearn: 0.1611933\ttotal: 5m 30s\tremaining: 24m 36s\n",
      "183:\tlearn: 0.1609520\ttotal: 5m 32s\tremaining: 24m 34s\n",
      "184:\tlearn: 0.1607154\ttotal: 5m 34s\tremaining: 24m 32s\n",
      "185:\tlearn: 0.1603934\ttotal: 5m 36s\tremaining: 24m 30s\n",
      "186:\tlearn: 0.1602475\ttotal: 5m 37s\tremaining: 24m 28s\n",
      "187:\tlearn: 0.1600977\ttotal: 5m 39s\tremaining: 24m 26s\n",
      "188:\tlearn: 0.1599120\ttotal: 5m 41s\tremaining: 24m 24s\n",
      "189:\tlearn: 0.1596778\ttotal: 5m 42s\tremaining: 24m 22s\n",
      "190:\tlearn: 0.1595392\ttotal: 5m 44s\tremaining: 24m 20s\n",
      "191:\tlearn: 0.1593753\ttotal: 5m 46s\tremaining: 24m 18s\n",
      "192:\tlearn: 0.1592276\ttotal: 5m 48s\tremaining: 24m 16s\n",
      "193:\tlearn: 0.1590539\ttotal: 5m 50s\tremaining: 24m 14s\n",
      "194:\tlearn: 0.1589051\ttotal: 5m 51s\tremaining: 24m 12s\n",
      "195:\tlearn: 0.1587518\ttotal: 5m 53s\tremaining: 24m 10s\n",
      "196:\tlearn: 0.1586199\ttotal: 5m 55s\tremaining: 24m 8s\n",
      "197:\tlearn: 0.1584660\ttotal: 5m 56s\tremaining: 24m 5s\n",
      "198:\tlearn: 0.1583261\ttotal: 5m 58s\tremaining: 24m 4s\n",
      "199:\tlearn: 0.1580893\ttotal: 6m\tremaining: 24m 2s\n",
      "200:\tlearn: 0.1579536\ttotal: 6m 2s\tremaining: 23m 59s\n",
      "201:\tlearn: 0.1578116\ttotal: 6m 3s\tremaining: 23m 57s\n",
      "202:\tlearn: 0.1576417\ttotal: 6m 5s\tremaining: 23m 56s\n",
      "203:\tlearn: 0.1575146\ttotal: 6m 7s\tremaining: 23m 54s\n",
      "204:\tlearn: 0.1573866\ttotal: 6m 9s\tremaining: 23m 52s\n",
      "205:\tlearn: 0.1571875\ttotal: 6m 11s\tremaining: 23m 50s\n",
      "206:\tlearn: 0.1570828\ttotal: 6m 12s\tremaining: 23m 48s\n",
      "207:\tlearn: 0.1568905\ttotal: 6m 14s\tremaining: 23m 46s\n",
      "208:\tlearn: 0.1567700\ttotal: 6m 16s\tremaining: 23m 44s\n",
      "209:\tlearn: 0.1565473\ttotal: 6m 18s\tremaining: 23m 42s\n",
      "210:\tlearn: 0.1564455\ttotal: 6m 19s\tremaining: 23m 40s\n",
      "211:\tlearn: 0.1562525\ttotal: 6m 21s\tremaining: 23m 38s\n",
      "212:\tlearn: 0.1561007\ttotal: 6m 23s\tremaining: 23m 36s\n",
      "213:\tlearn: 0.1559464\ttotal: 6m 25s\tremaining: 23m 34s\n",
      "214:\tlearn: 0.1558019\ttotal: 6m 26s\tremaining: 23m 32s\n",
      "215:\tlearn: 0.1556485\ttotal: 6m 28s\tremaining: 23m 30s\n",
      "216:\tlearn: 0.1554977\ttotal: 6m 30s\tremaining: 23m 28s\n",
      "217:\tlearn: 0.1553382\ttotal: 6m 32s\tremaining: 23m 26s\n",
      "218:\tlearn: 0.1552424\ttotal: 6m 33s\tremaining: 23m 24s\n",
      "219:\tlearn: 0.1550909\ttotal: 6m 35s\tremaining: 23m 22s\n",
      "220:\tlearn: 0.1549561\ttotal: 6m 37s\tremaining: 23m 20s\n",
      "221:\tlearn: 0.1547338\ttotal: 6m 39s\tremaining: 23m 18s\n",
      "222:\tlearn: 0.1546088\ttotal: 6m 40s\tremaining: 23m 16s\n",
      "223:\tlearn: 0.1544006\ttotal: 6m 42s\tremaining: 23m 14s\n",
      "224:\tlearn: 0.1541961\ttotal: 6m 44s\tremaining: 23m 13s\n",
      "225:\tlearn: 0.1540413\ttotal: 6m 46s\tremaining: 23m 11s\n",
      "226:\tlearn: 0.1538647\ttotal: 6m 48s\tremaining: 23m 9s\n",
      "227:\tlearn: 0.1537382\ttotal: 6m 49s\tremaining: 23m 7s\n",
      "228:\tlearn: 0.1535111\ttotal: 6m 51s\tremaining: 23m 5s\n",
      "229:\tlearn: 0.1533776\ttotal: 6m 53s\tremaining: 23m 3s\n",
      "230:\tlearn: 0.1531984\ttotal: 6m 55s\tremaining: 23m 1s\n",
      "231:\tlearn: 0.1530972\ttotal: 6m 56s\tremaining: 22m 59s\n",
      "232:\tlearn: 0.1529585\ttotal: 6m 58s\tremaining: 22m 58s\n",
      "233:\tlearn: 0.1527921\ttotal: 7m\tremaining: 22m 56s\n",
      "234:\tlearn: 0.1526468\ttotal: 7m 2s\tremaining: 22m 54s\n",
      "235:\tlearn: 0.1525126\ttotal: 7m 3s\tremaining: 22m 52s\n",
      "236:\tlearn: 0.1524190\ttotal: 7m 5s\tremaining: 22m 50s\n",
      "237:\tlearn: 0.1522987\ttotal: 7m 7s\tremaining: 22m 48s\n",
      "238:\tlearn: 0.1521861\ttotal: 7m 9s\tremaining: 22m 46s\n",
      "239:\tlearn: 0.1519708\ttotal: 7m 10s\tremaining: 22m 44s\n",
      "240:\tlearn: 0.1517641\ttotal: 7m 12s\tremaining: 22m 42s\n",
      "241:\tlearn: 0.1516583\ttotal: 7m 14s\tremaining: 22m 40s\n",
      "242:\tlearn: 0.1515090\ttotal: 7m 16s\tremaining: 22m 38s\n",
      "243:\tlearn: 0.1513874\ttotal: 7m 17s\tremaining: 22m 36s\n",
      "244:\tlearn: 0.1512019\ttotal: 7m 19s\tremaining: 22m 34s\n",
      "245:\tlearn: 0.1510829\ttotal: 7m 21s\tremaining: 22m 32s\n",
      "246:\tlearn: 0.1509572\ttotal: 7m 23s\tremaining: 22m 30s\n",
      "247:\tlearn: 0.1508740\ttotal: 7m 24s\tremaining: 22m 28s\n",
      "248:\tlearn: 0.1507688\ttotal: 7m 26s\tremaining: 22m 26s\n",
      "249:\tlearn: 0.1506603\ttotal: 7m 28s\tremaining: 22m 24s\n",
      "250:\tlearn: 0.1505339\ttotal: 7m 29s\tremaining: 22m 22s\n",
      "251:\tlearn: 0.1503878\ttotal: 7m 31s\tremaining: 22m 20s\n",
      "252:\tlearn: 0.1502644\ttotal: 7m 33s\tremaining: 22m 18s\n",
      "253:\tlearn: 0.1501488\ttotal: 7m 35s\tremaining: 22m 16s\n",
      "254:\tlearn: 0.1500433\ttotal: 7m 36s\tremaining: 22m 14s\n",
      "255:\tlearn: 0.1498898\ttotal: 7m 38s\tremaining: 22m 12s\n",
      "256:\tlearn: 0.1498135\ttotal: 7m 40s\tremaining: 22m 10s\n",
      "257:\tlearn: 0.1497326\ttotal: 7m 42s\tremaining: 22m 8s\n",
      "258:\tlearn: 0.1496184\ttotal: 7m 43s\tremaining: 22m 7s\n",
      "259:\tlearn: 0.1495296\ttotal: 7m 45s\tremaining: 22m 5s\n",
      "260:\tlearn: 0.1493999\ttotal: 7m 47s\tremaining: 22m 3s\n",
      "261:\tlearn: 0.1492613\ttotal: 7m 49s\tremaining: 22m 1s\n",
      "262:\tlearn: 0.1491510\ttotal: 7m 50s\tremaining: 21m 59s\n",
      "263:\tlearn: 0.1489857\ttotal: 7m 52s\tremaining: 21m 57s\n",
      "264:\tlearn: 0.1488625\ttotal: 7m 54s\tremaining: 21m 55s\n",
      "265:\tlearn: 0.1487747\ttotal: 7m 56s\tremaining: 21m 53s\n",
      "266:\tlearn: 0.1487052\ttotal: 7m 57s\tremaining: 21m 51s\n",
      "267:\tlearn: 0.1485575\ttotal: 7m 59s\tremaining: 21m 49s\n",
      "268:\tlearn: 0.1484165\ttotal: 8m 1s\tremaining: 21m 48s\n",
      "269:\tlearn: 0.1483174\ttotal: 8m 3s\tremaining: 21m 46s\n",
      "270:\tlearn: 0.1481377\ttotal: 8m 4s\tremaining: 21m 44s\n",
      "271:\tlearn: 0.1480584\ttotal: 8m 6s\tremaining: 21m 42s\n",
      "272:\tlearn: 0.1479596\ttotal: 8m 8s\tremaining: 21m 40s\n",
      "273:\tlearn: 0.1478670\ttotal: 8m 10s\tremaining: 21m 38s\n",
      "274:\tlearn: 0.1477363\ttotal: 8m 11s\tremaining: 21m 36s\n",
      "275:\tlearn: 0.1476291\ttotal: 8m 13s\tremaining: 21m 34s\n",
      "276:\tlearn: 0.1475382\ttotal: 8m 15s\tremaining: 21m 32s\n",
      "277:\tlearn: 0.1474421\ttotal: 8m 17s\tremaining: 21m 30s\n",
      "278:\tlearn: 0.1472498\ttotal: 8m 18s\tremaining: 21m 29s\n",
      "279:\tlearn: 0.1471113\ttotal: 8m 20s\tremaining: 21m 27s\n",
      "280:\tlearn: 0.1470414\ttotal: 8m 22s\tremaining: 21m 25s\n",
      "281:\tlearn: 0.1468895\ttotal: 8m 24s\tremaining: 21m 23s\n",
      "282:\tlearn: 0.1467364\ttotal: 8m 25s\tremaining: 21m 21s\n",
      "283:\tlearn: 0.1465541\ttotal: 8m 27s\tremaining: 21m 19s\n",
      "284:\tlearn: 0.1464270\ttotal: 8m 29s\tremaining: 21m 17s\n",
      "285:\tlearn: 0.1463070\ttotal: 8m 31s\tremaining: 21m 16s\n",
      "286:\tlearn: 0.1462049\ttotal: 8m 32s\tremaining: 21m 14s\n",
      "287:\tlearn: 0.1460070\ttotal: 8m 34s\tremaining: 21m 12s\n",
      "288:\tlearn: 0.1459413\ttotal: 8m 36s\tremaining: 21m 10s\n",
      "289:\tlearn: 0.1458110\ttotal: 8m 38s\tremaining: 21m 8s\n",
      "290:\tlearn: 0.1456472\ttotal: 8m 39s\tremaining: 21m 6s\n",
      "291:\tlearn: 0.1455740\ttotal: 8m 41s\tremaining: 21m 4s\n",
      "292:\tlearn: 0.1455099\ttotal: 8m 43s\tremaining: 21m 2s\n",
      "293:\tlearn: 0.1454172\ttotal: 8m 44s\tremaining: 21m\n",
      "294:\tlearn: 0.1453401\ttotal: 8m 46s\tremaining: 20m 58s\n",
      "295:\tlearn: 0.1452672\ttotal: 8m 48s\tremaining: 20m 56s\n",
      "296:\tlearn: 0.1451011\ttotal: 8m 50s\tremaining: 20m 54s\n",
      "297:\tlearn: 0.1449935\ttotal: 8m 51s\tremaining: 20m 52s\n",
      "298:\tlearn: 0.1449105\ttotal: 8m 53s\tremaining: 20m 50s\n",
      "299:\tlearn: 0.1447412\ttotal: 8m 55s\tremaining: 20m 49s\n",
      "300:\tlearn: 0.1446205\ttotal: 8m 57s\tremaining: 20m 47s\n",
      "301:\tlearn: 0.1445287\ttotal: 8m 59s\tremaining: 20m 45s\n",
      "302:\tlearn: 0.1443952\ttotal: 9m\tremaining: 20m 44s\n",
      "303:\tlearn: 0.1443363\ttotal: 9m 2s\tremaining: 20m 42s\n",
      "304:\tlearn: 0.1442399\ttotal: 9m 4s\tremaining: 20m 40s\n",
      "305:\tlearn: 0.1441463\ttotal: 9m 6s\tremaining: 20m 38s\n",
      "306:\tlearn: 0.1440167\ttotal: 9m 7s\tremaining: 20m 36s\n",
      "307:\tlearn: 0.1438600\ttotal: 9m 9s\tremaining: 20m 34s\n",
      "308:\tlearn: 0.1437350\ttotal: 9m 11s\tremaining: 20m 32s\n",
      "309:\tlearn: 0.1435763\ttotal: 9m 13s\tremaining: 20m 31s\n",
      "310:\tlearn: 0.1435074\ttotal: 9m 14s\tremaining: 20m 29s\n",
      "311:\tlearn: 0.1433830\ttotal: 9m 16s\tremaining: 20m 27s\n",
      "312:\tlearn: 0.1432759\ttotal: 9m 18s\tremaining: 20m 25s\n",
      "313:\tlearn: 0.1431722\ttotal: 9m 19s\tremaining: 20m 23s\n",
      "314:\tlearn: 0.1430845\ttotal: 9m 21s\tremaining: 20m 21s\n",
      "315:\tlearn: 0.1429755\ttotal: 9m 23s\tremaining: 20m 19s\n",
      "316:\tlearn: 0.1428423\ttotal: 9m 25s\tremaining: 20m 17s\n",
      "317:\tlearn: 0.1427421\ttotal: 9m 26s\tremaining: 20m 15s\n",
      "318:\tlearn: 0.1426166\ttotal: 9m 28s\tremaining: 20m 14s\n",
      "319:\tlearn: 0.1425344\ttotal: 9m 30s\tremaining: 20m 12s\n",
      "320:\tlearn: 0.1424085\ttotal: 9m 32s\tremaining: 20m 10s\n",
      "321:\tlearn: 0.1423468\ttotal: 9m 33s\tremaining: 20m 8s\n",
      "322:\tlearn: 0.1422898\ttotal: 9m 35s\tremaining: 20m 6s\n",
      "323:\tlearn: 0.1422054\ttotal: 9m 37s\tremaining: 20m 4s\n",
      "324:\tlearn: 0.1421100\ttotal: 9m 39s\tremaining: 20m 3s\n",
      "325:\tlearn: 0.1419897\ttotal: 9m 41s\tremaining: 20m 1s\n",
      "326:\tlearn: 0.1418693\ttotal: 9m 43s\tremaining: 20m\n",
      "327:\tlearn: 0.1417724\ttotal: 9m 44s\tremaining: 19m 58s\n",
      "328:\tlearn: 0.1417099\ttotal: 9m 46s\tremaining: 19m 56s\n",
      "329:\tlearn: 0.1416270\ttotal: 9m 48s\tremaining: 19m 54s\n",
      "330:\tlearn: 0.1415259\ttotal: 9m 50s\tremaining: 19m 52s\n",
      "331:\tlearn: 0.1414363\ttotal: 9m 51s\tremaining: 19m 50s\n",
      "332:\tlearn: 0.1413359\ttotal: 9m 53s\tremaining: 19m 49s\n",
      "333:\tlearn: 0.1412421\ttotal: 9m 55s\tremaining: 19m 47s\n",
      "334:\tlearn: 0.1411267\ttotal: 9m 57s\tremaining: 19m 45s\n",
      "335:\tlearn: 0.1410460\ttotal: 9m 58s\tremaining: 19m 43s\n",
      "336:\tlearn: 0.1409720\ttotal: 10m\tremaining: 19m 41s\n",
      "337:\tlearn: 0.1409175\ttotal: 10m 2s\tremaining: 19m 39s\n",
      "338:\tlearn: 0.1408564\ttotal: 10m 4s\tremaining: 19m 37s\n",
      "339:\tlearn: 0.1407242\ttotal: 10m 5s\tremaining: 19m 36s\n",
      "340:\tlearn: 0.1406711\ttotal: 10m 7s\tremaining: 19m 34s\n",
      "341:\tlearn: 0.1406086\ttotal: 10m 9s\tremaining: 19m 32s\n",
      "342:\tlearn: 0.1405370\ttotal: 10m 10s\tremaining: 19m 30s\n",
      "343:\tlearn: 0.1404424\ttotal: 10m 12s\tremaining: 19m 28s\n",
      "344:\tlearn: 0.1403633\ttotal: 10m 14s\tremaining: 19m 26s\n",
      "345:\tlearn: 0.1402711\ttotal: 10m 16s\tremaining: 19m 24s\n",
      "346:\tlearn: 0.1402169\ttotal: 10m 17s\tremaining: 19m 22s\n",
      "347:\tlearn: 0.1400909\ttotal: 10m 19s\tremaining: 19m 21s\n",
      "348:\tlearn: 0.1400414\ttotal: 10m 21s\tremaining: 19m 19s\n",
      "349:\tlearn: 0.1399619\ttotal: 10m 23s\tremaining: 19m 17s\n",
      "350:\tlearn: 0.1399062\ttotal: 10m 24s\tremaining: 19m 15s\n",
      "351:\tlearn: 0.1398178\ttotal: 10m 26s\tremaining: 19m 13s\n",
      "352:\tlearn: 0.1397508\ttotal: 10m 28s\tremaining: 19m 11s\n",
      "353:\tlearn: 0.1396766\ttotal: 10m 29s\tremaining: 19m 9s\n",
      "354:\tlearn: 0.1395542\ttotal: 10m 31s\tremaining: 19m 7s\n",
      "355:\tlearn: 0.1395078\ttotal: 10m 33s\tremaining: 19m 5s\n",
      "356:\tlearn: 0.1394114\ttotal: 10m 35s\tremaining: 19m 4s\n",
      "357:\tlearn: 0.1392737\ttotal: 10m 37s\tremaining: 19m 2s\n",
      "358:\tlearn: 0.1391538\ttotal: 10m 38s\tremaining: 19m\n",
      "359:\tlearn: 0.1390576\ttotal: 10m 40s\tremaining: 18m 59s\n",
      "360:\tlearn: 0.1389466\ttotal: 10m 42s\tremaining: 18m 57s\n",
      "361:\tlearn: 0.1388895\ttotal: 10m 44s\tremaining: 18m 55s\n",
      "362:\tlearn: 0.1388414\ttotal: 10m 46s\tremaining: 18m 53s\n",
      "363:\tlearn: 0.1387395\ttotal: 10m 47s\tremaining: 18m 52s\n",
      "364:\tlearn: 0.1386468\ttotal: 10m 49s\tremaining: 18m 50s\n",
      "365:\tlearn: 0.1385824\ttotal: 10m 51s\tremaining: 18m 48s\n",
      "366:\tlearn: 0.1384740\ttotal: 10m 53s\tremaining: 18m 46s\n",
      "367:\tlearn: 0.1384285\ttotal: 10m 55s\tremaining: 18m 44s\n",
      "368:\tlearn: 0.1383390\ttotal: 10m 56s\tremaining: 18m 43s\n",
      "369:\tlearn: 0.1382270\ttotal: 10m 58s\tremaining: 18m 41s\n",
      "370:\tlearn: 0.1381785\ttotal: 11m\tremaining: 18m 39s\n",
      "371:\tlearn: 0.1380742\ttotal: 11m 2s\tremaining: 18m 37s\n",
      "372:\tlearn: 0.1379956\ttotal: 11m 3s\tremaining: 18m 35s\n",
      "373:\tlearn: 0.1379238\ttotal: 11m 5s\tremaining: 18m 34s\n",
      "374:\tlearn: 0.1378769\ttotal: 11m 7s\tremaining: 18m 32s\n",
      "375:\tlearn: 0.1378249\ttotal: 11m 8s\tremaining: 18m 30s\n",
      "376:\tlearn: 0.1377331\ttotal: 11m 10s\tremaining: 18m 28s\n",
      "377:\tlearn: 0.1376329\ttotal: 11m 12s\tremaining: 18m 26s\n",
      "378:\tlearn: 0.1375488\ttotal: 11m 14s\tremaining: 18m 24s\n",
      "379:\tlearn: 0.1374924\ttotal: 11m 16s\tremaining: 18m 23s\n",
      "380:\tlearn: 0.1373665\ttotal: 11m 17s\tremaining: 18m 21s\n",
      "381:\tlearn: 0.1373110\ttotal: 11m 19s\tremaining: 18m 19s\n",
      "382:\tlearn: 0.1372672\ttotal: 11m 21s\tremaining: 18m 17s\n",
      "383:\tlearn: 0.1372229\ttotal: 11m 23s\tremaining: 18m 15s\n",
      "384:\tlearn: 0.1370983\ttotal: 11m 24s\tremaining: 18m 13s\n",
      "385:\tlearn: 0.1369536\ttotal: 11m 26s\tremaining: 18m 12s\n",
      "386:\tlearn: 0.1368275\ttotal: 11m 28s\tremaining: 18m 10s\n",
      "387:\tlearn: 0.1367351\ttotal: 11m 30s\tremaining: 18m 8s\n",
      "388:\tlearn: 0.1366736\ttotal: 11m 32s\tremaining: 18m 6s\n",
      "389:\tlearn: 0.1365813\ttotal: 11m 33s\tremaining: 18m 5s\n",
      "390:\tlearn: 0.1364964\ttotal: 11m 35s\tremaining: 18m 3s\n",
      "391:\tlearn: 0.1364324\ttotal: 11m 37s\tremaining: 18m 1s\n",
      "392:\tlearn: 0.1363125\ttotal: 11m 39s\tremaining: 18m\n",
      "393:\tlearn: 0.1362070\ttotal: 11m 41s\tremaining: 17m 58s\n",
      "394:\tlearn: 0.1361466\ttotal: 11m 42s\tremaining: 17m 56s\n",
      "395:\tlearn: 0.1360332\ttotal: 11m 44s\tremaining: 17m 54s\n",
      "396:\tlearn: 0.1359857\ttotal: 11m 46s\tremaining: 17m 53s\n",
      "397:\tlearn: 0.1359431\ttotal: 11m 48s\tremaining: 17m 51s\n",
      "398:\tlearn: 0.1358830\ttotal: 11m 49s\tremaining: 17m 49s\n",
      "399:\tlearn: 0.1357865\ttotal: 11m 51s\tremaining: 17m 47s\n",
      "400:\tlearn: 0.1357409\ttotal: 11m 53s\tremaining: 17m 45s\n",
      "401:\tlearn: 0.1356864\ttotal: 11m 55s\tremaining: 17m 43s\n",
      "402:\tlearn: 0.1355299\ttotal: 11m 56s\tremaining: 17m 41s\n",
      "403:\tlearn: 0.1354724\ttotal: 11m 58s\tremaining: 17m 40s\n",
      "404:\tlearn: 0.1353804\ttotal: 12m\tremaining: 17m 38s\n",
      "405:\tlearn: 0.1352904\ttotal: 12m 2s\tremaining: 17m 36s\n",
      "406:\tlearn: 0.1352482\ttotal: 12m 3s\tremaining: 17m 34s\n",
      "407:\tlearn: 0.1351783\ttotal: 12m 5s\tremaining: 17m 32s\n",
      "408:\tlearn: 0.1350680\ttotal: 12m 7s\tremaining: 17m 30s\n",
      "409:\tlearn: 0.1350008\ttotal: 12m 8s\tremaining: 17m 28s\n",
      "410:\tlearn: 0.1349312\ttotal: 12m 10s\tremaining: 17m 27s\n",
      "411:\tlearn: 0.1348396\ttotal: 12m 12s\tremaining: 17m 25s\n",
      "412:\tlearn: 0.1347611\ttotal: 12m 14s\tremaining: 17m 23s\n",
      "413:\tlearn: 0.1347115\ttotal: 12m 15s\tremaining: 17m 21s\n",
      "414:\tlearn: 0.1346437\ttotal: 12m 17s\tremaining: 17m 19s\n",
      "415:\tlearn: 0.1346020\ttotal: 12m 19s\tremaining: 17m 17s\n",
      "416:\tlearn: 0.1345619\ttotal: 12m 20s\tremaining: 17m 15s\n",
      "417:\tlearn: 0.1344732\ttotal: 12m 22s\tremaining: 17m 14s\n",
      "418:\tlearn: 0.1343980\ttotal: 12m 24s\tremaining: 17m 12s\n",
      "419:\tlearn: 0.1343233\ttotal: 12m 26s\tremaining: 17m 10s\n",
      "420:\tlearn: 0.1342247\ttotal: 12m 28s\tremaining: 17m 8s\n",
      "421:\tlearn: 0.1341862\ttotal: 12m 29s\tremaining: 17m 6s\n",
      "422:\tlearn: 0.1341354\ttotal: 12m 31s\tremaining: 17m 5s\n",
      "423:\tlearn: 0.1340224\ttotal: 12m 33s\tremaining: 17m 3s\n",
      "424:\tlearn: 0.1338792\ttotal: 12m 35s\tremaining: 17m 1s\n",
      "425:\tlearn: 0.1338003\ttotal: 12m 36s\tremaining: 16m 59s\n",
      "426:\tlearn: 0.1337493\ttotal: 12m 38s\tremaining: 16m 57s\n",
      "427:\tlearn: 0.1336913\ttotal: 12m 40s\tremaining: 16m 55s\n",
      "428:\tlearn: 0.1335569\ttotal: 12m 42s\tremaining: 16m 54s\n",
      "429:\tlearn: 0.1334668\ttotal: 12m 43s\tremaining: 16m 52s\n",
      "430:\tlearn: 0.1334263\ttotal: 12m 45s\tremaining: 16m 50s\n",
      "431:\tlearn: 0.1333875\ttotal: 12m 47s\tremaining: 16m 48s\n",
      "432:\tlearn: 0.1333229\ttotal: 12m 49s\tremaining: 16m 47s\n",
      "433:\tlearn: 0.1332794\ttotal: 12m 50s\tremaining: 16m 45s\n",
      "434:\tlearn: 0.1332006\ttotal: 12m 52s\tremaining: 16m 43s\n",
      "435:\tlearn: 0.1331053\ttotal: 12m 54s\tremaining: 16m 41s\n",
      "436:\tlearn: 0.1329929\ttotal: 12m 56s\tremaining: 16m 39s\n",
      "437:\tlearn: 0.1329243\ttotal: 12m 57s\tremaining: 16m 38s\n",
      "438:\tlearn: 0.1328832\ttotal: 12m 59s\tremaining: 16m 36s\n",
      "439:\tlearn: 0.1328062\ttotal: 13m 1s\tremaining: 16m 34s\n",
      "440:\tlearn: 0.1327141\ttotal: 13m 2s\tremaining: 16m 32s\n",
      "441:\tlearn: 0.1326023\ttotal: 13m 4s\tremaining: 16m 30s\n",
      "442:\tlearn: 0.1325162\ttotal: 13m 6s\tremaining: 16m 28s\n",
      "443:\tlearn: 0.1324504\ttotal: 13m 8s\tremaining: 16m 27s\n",
      "444:\tlearn: 0.1323711\ttotal: 13m 10s\tremaining: 16m 25s\n",
      "445:\tlearn: 0.1322880\ttotal: 13m 11s\tremaining: 16m 23s\n",
      "446:\tlearn: 0.1321835\ttotal: 13m 13s\tremaining: 16m 21s\n",
      "447:\tlearn: 0.1321163\ttotal: 13m 15s\tremaining: 16m 20s\n",
      "448:\tlearn: 0.1320274\ttotal: 13m 17s\tremaining: 16m 18s\n",
      "449:\tlearn: 0.1319903\ttotal: 13m 19s\tremaining: 16m 16s\n",
      "450:\tlearn: 0.1319121\ttotal: 13m 20s\tremaining: 16m 14s\n",
      "451:\tlearn: 0.1318621\ttotal: 13m 22s\tremaining: 16m 12s\n",
      "452:\tlearn: 0.1318185\ttotal: 13m 24s\tremaining: 16m 11s\n",
      "453:\tlearn: 0.1317481\ttotal: 13m 25s\tremaining: 16m 9s\n",
      "454:\tlearn: 0.1316271\ttotal: 13m 27s\tremaining: 16m 7s\n",
      "455:\tlearn: 0.1315784\ttotal: 13m 29s\tremaining: 16m 5s\n",
      "456:\tlearn: 0.1314807\ttotal: 13m 31s\tremaining: 16m 3s\n",
      "457:\tlearn: 0.1314171\ttotal: 13m 33s\tremaining: 16m 2s\n",
      "458:\tlearn: 0.1313430\ttotal: 13m 34s\tremaining: 16m\n",
      "459:\tlearn: 0.1312889\ttotal: 13m 36s\tremaining: 15m 58s\n",
      "460:\tlearn: 0.1311908\ttotal: 13m 38s\tremaining: 15m 56s\n",
      "461:\tlearn: 0.1311526\ttotal: 13m 40s\tremaining: 15m 54s\n",
      "462:\tlearn: 0.1310493\ttotal: 13m 41s\tremaining: 15m 53s\n",
      "463:\tlearn: 0.1310128\ttotal: 13m 43s\tremaining: 15m 51s\n",
      "464:\tlearn: 0.1309242\ttotal: 13m 45s\tremaining: 15m 49s\n",
      "465:\tlearn: 0.1308882\ttotal: 13m 47s\tremaining: 15m 47s\n",
      "466:\tlearn: 0.1308306\ttotal: 13m 48s\tremaining: 15m 46s\n",
      "467:\tlearn: 0.1307693\ttotal: 13m 50s\tremaining: 15m 44s\n",
      "468:\tlearn: 0.1307178\ttotal: 13m 52s\tremaining: 15m 42s\n",
      "469:\tlearn: 0.1306796\ttotal: 13m 54s\tremaining: 15m 40s\n",
      "470:\tlearn: 0.1306170\ttotal: 13m 55s\tremaining: 15m 38s\n",
      "471:\tlearn: 0.1305662\ttotal: 13m 57s\tremaining: 15m 36s\n",
      "472:\tlearn: 0.1305090\ttotal: 13m 59s\tremaining: 15m 35s\n",
      "473:\tlearn: 0.1304664\ttotal: 14m\tremaining: 15m 33s\n",
      "474:\tlearn: 0.1303779\ttotal: 14m 2s\tremaining: 15m 31s\n",
      "475:\tlearn: 0.1303080\ttotal: 14m 4s\tremaining: 15m 29s\n",
      "476:\tlearn: 0.1302224\ttotal: 14m 6s\tremaining: 15m 27s\n",
      "477:\tlearn: 0.1301552\ttotal: 14m 8s\tremaining: 15m 26s\n",
      "478:\tlearn: 0.1300828\ttotal: 14m 9s\tremaining: 15m 24s\n",
      "479:\tlearn: 0.1299944\ttotal: 14m 11s\tremaining: 15m 22s\n",
      "480:\tlearn: 0.1299234\ttotal: 14m 13s\tremaining: 15m 20s\n",
      "481:\tlearn: 0.1298118\ttotal: 14m 15s\tremaining: 15m 19s\n",
      "482:\tlearn: 0.1297749\ttotal: 14m 16s\tremaining: 15m 17s\n",
      "483:\tlearn: 0.1296860\ttotal: 14m 18s\tremaining: 15m 15s\n",
      "484:\tlearn: 0.1296202\ttotal: 14m 20s\tremaining: 15m 13s\n",
      "485:\tlearn: 0.1295711\ttotal: 14m 22s\tremaining: 15m 11s\n",
      "486:\tlearn: 0.1294939\ttotal: 14m 23s\tremaining: 15m 10s\n",
      "487:\tlearn: 0.1294189\ttotal: 14m 25s\tremaining: 15m 8s\n",
      "488:\tlearn: 0.1293369\ttotal: 14m 27s\tremaining: 15m 6s\n",
      "489:\tlearn: 0.1292419\ttotal: 14m 29s\tremaining: 15m 4s\n",
      "490:\tlearn: 0.1291730\ttotal: 14m 31s\tremaining: 15m 3s\n",
      "491:\tlearn: 0.1291324\ttotal: 14m 32s\tremaining: 15m 1s\n",
      "492:\tlearn: 0.1290660\ttotal: 14m 34s\tremaining: 14m 59s\n",
      "493:\tlearn: 0.1290023\ttotal: 14m 36s\tremaining: 14m 57s\n",
      "494:\tlearn: 0.1289518\ttotal: 14m 38s\tremaining: 14m 55s\n",
      "495:\tlearn: 0.1288848\ttotal: 14m 39s\tremaining: 14m 54s\n",
      "496:\tlearn: 0.1288138\ttotal: 14m 41s\tremaining: 14m 52s\n",
      "497:\tlearn: 0.1287440\ttotal: 14m 43s\tremaining: 14m 50s\n",
      "498:\tlearn: 0.1286993\ttotal: 14m 45s\tremaining: 14m 48s\n",
      "499:\tlearn: 0.1286147\ttotal: 14m 46s\tremaining: 14m 46s\n",
      "500:\tlearn: 0.1285804\ttotal: 14m 48s\tremaining: 14m 45s\n",
      "501:\tlearn: 0.1285408\ttotal: 14m 50s\tremaining: 14m 43s\n",
      "502:\tlearn: 0.1285089\ttotal: 14m 52s\tremaining: 14m 41s\n",
      "503:\tlearn: 0.1284352\ttotal: 14m 53s\tremaining: 14m 39s\n",
      "504:\tlearn: 0.1283686\ttotal: 14m 55s\tremaining: 14m 37s\n",
      "505:\tlearn: 0.1282761\ttotal: 14m 57s\tremaining: 14m 36s\n",
      "506:\tlearn: 0.1281995\ttotal: 14m 59s\tremaining: 14m 34s\n",
      "507:\tlearn: 0.1280911\ttotal: 15m 1s\tremaining: 14m 32s\n",
      "508:\tlearn: 0.1280233\ttotal: 15m 2s\tremaining: 14m 30s\n",
      "509:\tlearn: 0.1279833\ttotal: 15m 4s\tremaining: 14m 29s\n",
      "510:\tlearn: 0.1279058\ttotal: 15m 6s\tremaining: 14m 27s\n",
      "511:\tlearn: 0.1278673\ttotal: 15m 8s\tremaining: 14m 25s\n",
      "512:\tlearn: 0.1277747\ttotal: 15m 9s\tremaining: 14m 23s\n",
      "513:\tlearn: 0.1277430\ttotal: 15m 11s\tremaining: 14m 21s\n",
      "514:\tlearn: 0.1276956\ttotal: 15m 13s\tremaining: 14m 20s\n",
      "515:\tlearn: 0.1276251\ttotal: 15m 15s\tremaining: 14m 18s\n",
      "516:\tlearn: 0.1275838\ttotal: 15m 16s\tremaining: 14m 16s\n",
      "517:\tlearn: 0.1275496\ttotal: 15m 18s\tremaining: 14m 14s\n",
      "518:\tlearn: 0.1274943\ttotal: 15m 20s\tremaining: 14m 13s\n",
      "519:\tlearn: 0.1274056\ttotal: 15m 22s\tremaining: 14m 11s\n",
      "520:\tlearn: 0.1273733\ttotal: 15m 23s\tremaining: 14m 9s\n",
      "521:\tlearn: 0.1273412\ttotal: 15m 25s\tremaining: 14m 7s\n",
      "522:\tlearn: 0.1272701\ttotal: 15m 27s\tremaining: 14m 5s\n",
      "523:\tlearn: 0.1272268\ttotal: 15m 29s\tremaining: 14m 4s\n",
      "524:\tlearn: 0.1271932\ttotal: 15m 30s\tremaining: 14m 2s\n",
      "525:\tlearn: 0.1271636\ttotal: 15m 32s\tremaining: 14m\n",
      "526:\tlearn: 0.1271124\ttotal: 15m 34s\tremaining: 13m 58s\n",
      "527:\tlearn: 0.1270078\ttotal: 15m 36s\tremaining: 13m 56s\n",
      "528:\tlearn: 0.1269755\ttotal: 15m 37s\tremaining: 13m 55s\n",
      "529:\tlearn: 0.1269448\ttotal: 15m 39s\tremaining: 13m 53s\n",
      "530:\tlearn: 0.1269089\ttotal: 15m 41s\tremaining: 13m 51s\n",
      "531:\tlearn: 0.1268686\ttotal: 15m 43s\tremaining: 13m 49s\n",
      "532:\tlearn: 0.1267954\ttotal: 15m 44s\tremaining: 13m 47s\n",
      "533:\tlearn: 0.1267657\ttotal: 15m 46s\tremaining: 13m 46s\n",
      "534:\tlearn: 0.1267263\ttotal: 15m 48s\tremaining: 13m 44s\n",
      "535:\tlearn: 0.1266596\ttotal: 15m 50s\tremaining: 13m 42s\n",
      "536:\tlearn: 0.1265560\ttotal: 15m 51s\tremaining: 13m 40s\n",
      "537:\tlearn: 0.1264391\ttotal: 15m 53s\tremaining: 13m 38s\n",
      "538:\tlearn: 0.1263731\ttotal: 15m 55s\tremaining: 13m 37s\n",
      "539:\tlearn: 0.1263361\ttotal: 15m 57s\tremaining: 13m 35s\n",
      "540:\tlearn: 0.1262770\ttotal: 15m 58s\tremaining: 13m 33s\n",
      "541:\tlearn: 0.1262472\ttotal: 16m\tremaining: 13m 31s\n",
      "542:\tlearn: 0.1261848\ttotal: 16m 2s\tremaining: 13m 29s\n",
      "543:\tlearn: 0.1261516\ttotal: 16m 4s\tremaining: 13m 28s\n",
      "544:\tlearn: 0.1260418\ttotal: 16m 5s\tremaining: 13m 26s\n",
      "545:\tlearn: 0.1260116\ttotal: 16m 7s\tremaining: 13m 24s\n",
      "546:\tlearn: 0.1259819\ttotal: 16m 9s\tremaining: 13m 22s\n",
      "547:\tlearn: 0.1259473\ttotal: 16m 10s\tremaining: 13m 20s\n",
      "548:\tlearn: 0.1259175\ttotal: 16m 12s\tremaining: 13m 18s\n",
      "549:\tlearn: 0.1258708\ttotal: 16m 14s\tremaining: 13m 17s\n",
      "550:\tlearn: 0.1258046\ttotal: 16m 16s\tremaining: 13m 15s\n",
      "551:\tlearn: 0.1257753\ttotal: 16m 17s\tremaining: 13m 13s\n",
      "552:\tlearn: 0.1257447\ttotal: 16m 19s\tremaining: 13m 11s\n",
      "553:\tlearn: 0.1257019\ttotal: 16m 21s\tremaining: 13m 9s\n",
      "554:\tlearn: 0.1256190\ttotal: 16m 23s\tremaining: 13m 8s\n",
      "555:\tlearn: 0.1255785\ttotal: 16m 24s\tremaining: 13m 6s\n",
      "556:\tlearn: 0.1255136\ttotal: 16m 26s\tremaining: 13m 4s\n",
      "557:\tlearn: 0.1254837\ttotal: 16m 28s\tremaining: 13m 2s\n",
      "558:\tlearn: 0.1254561\ttotal: 16m 29s\tremaining: 13m 1s\n",
      "559:\tlearn: 0.1253944\ttotal: 16m 31s\tremaining: 12m 59s\n",
      "560:\tlearn: 0.1253318\ttotal: 16m 33s\tremaining: 12m 57s\n",
      "561:\tlearn: 0.1253024\ttotal: 16m 35s\tremaining: 12m 55s\n",
      "562:\tlearn: 0.1252723\ttotal: 16m 36s\tremaining: 12m 53s\n",
      "563:\tlearn: 0.1252336\ttotal: 16m 38s\tremaining: 12m 51s\n",
      "564:\tlearn: 0.1251854\ttotal: 16m 40s\tremaining: 12m 50s\n",
      "565:\tlearn: 0.1251546\ttotal: 16m 41s\tremaining: 12m 48s\n",
      "566:\tlearn: 0.1250902\ttotal: 16m 43s\tremaining: 12m 46s\n",
      "567:\tlearn: 0.1250569\ttotal: 16m 45s\tremaining: 12m 44s\n",
      "568:\tlearn: 0.1249591\ttotal: 16m 47s\tremaining: 12m 42s\n",
      "569:\tlearn: 0.1248854\ttotal: 16m 49s\tremaining: 12m 41s\n",
      "570:\tlearn: 0.1248586\ttotal: 16m 50s\tremaining: 12m 39s\n",
      "571:\tlearn: 0.1247577\ttotal: 16m 52s\tremaining: 12m 37s\n",
      "572:\tlearn: 0.1246662\ttotal: 16m 54s\tremaining: 12m 35s\n",
      "573:\tlearn: 0.1246379\ttotal: 16m 56s\tremaining: 12m 34s\n",
      "574:\tlearn: 0.1245860\ttotal: 16m 57s\tremaining: 12m 32s\n",
      "575:\tlearn: 0.1245281\ttotal: 16m 59s\tremaining: 12m 30s\n",
      "576:\tlearn: 0.1244639\ttotal: 17m 1s\tremaining: 12m 28s\n",
      "577:\tlearn: 0.1244370\ttotal: 17m 2s\tremaining: 12m 26s\n",
      "578:\tlearn: 0.1243907\ttotal: 17m 4s\tremaining: 12m 25s\n",
      "579:\tlearn: 0.1243322\ttotal: 17m 6s\tremaining: 12m 23s\n",
      "580:\tlearn: 0.1242411\ttotal: 17m 8s\tremaining: 12m 21s\n",
      "581:\tlearn: 0.1242145\ttotal: 17m 9s\tremaining: 12m 19s\n",
      "582:\tlearn: 0.1241460\ttotal: 17m 11s\tremaining: 12m 18s\n",
      "583:\tlearn: 0.1240999\ttotal: 17m 13s\tremaining: 12m 16s\n",
      "584:\tlearn: 0.1240552\ttotal: 17m 15s\tremaining: 12m 14s\n",
      "585:\tlearn: 0.1240138\ttotal: 17m 17s\tremaining: 12m 12s\n",
      "586:\tlearn: 0.1239586\ttotal: 17m 18s\tremaining: 12m 10s\n",
      "587:\tlearn: 0.1239306\ttotal: 17m 20s\tremaining: 12m 9s\n",
      "588:\tlearn: 0.1238523\ttotal: 17m 22s\tremaining: 12m 7s\n",
      "589:\tlearn: 0.1238254\ttotal: 17m 24s\tremaining: 12m 5s\n",
      "590:\tlearn: 0.1237968\ttotal: 17m 25s\tremaining: 12m 3s\n",
      "591:\tlearn: 0.1237353\ttotal: 17m 27s\tremaining: 12m 2s\n",
      "592:\tlearn: 0.1237085\ttotal: 17m 29s\tremaining: 12m\n",
      "593:\tlearn: 0.1236600\ttotal: 17m 31s\tremaining: 11m 58s\n",
      "594:\tlearn: 0.1236054\ttotal: 17m 32s\tremaining: 11m 56s\n",
      "595:\tlearn: 0.1235787\ttotal: 17m 34s\tremaining: 11m 54s\n",
      "596:\tlearn: 0.1235149\ttotal: 17m 36s\tremaining: 11m 53s\n",
      "597:\tlearn: 0.1234575\ttotal: 17m 38s\tremaining: 11m 51s\n",
      "598:\tlearn: 0.1234171\ttotal: 17m 39s\tremaining: 11m 49s\n",
      "599:\tlearn: 0.1233911\ttotal: 17m 41s\tremaining: 11m 47s\n",
      "600:\tlearn: 0.1233001\ttotal: 17m 43s\tremaining: 11m 46s\n",
      "601:\tlearn: 0.1232756\ttotal: 17m 45s\tremaining: 11m 44s\n",
      "602:\tlearn: 0.1232195\ttotal: 17m 47s\tremaining: 11m 42s\n",
      "603:\tlearn: 0.1230735\ttotal: 17m 48s\tremaining: 11m 40s\n",
      "604:\tlearn: 0.1230404\ttotal: 17m 50s\tremaining: 11m 38s\n",
      "605:\tlearn: 0.1229835\ttotal: 17m 52s\tremaining: 11m 37s\n",
      "606:\tlearn: 0.1229567\ttotal: 17m 54s\tremaining: 11m 35s\n",
      "607:\tlearn: 0.1229237\ttotal: 17m 55s\tremaining: 11m 33s\n",
      "608:\tlearn: 0.1228121\ttotal: 17m 57s\tremaining: 11m 31s\n",
      "609:\tlearn: 0.1227853\ttotal: 17m 59s\tremaining: 11m 30s\n",
      "610:\tlearn: 0.1227431\ttotal: 18m 1s\tremaining: 11m 28s\n",
      "611:\tlearn: 0.1227093\ttotal: 18m 2s\tremaining: 11m 26s\n",
      "612:\tlearn: 0.1226788\ttotal: 18m 4s\tremaining: 11m 24s\n",
      "613:\tlearn: 0.1226521\ttotal: 18m 6s\tremaining: 11m 22s\n",
      "614:\tlearn: 0.1226183\ttotal: 18m 8s\tremaining: 11m 21s\n",
      "615:\tlearn: 0.1225918\ttotal: 18m 9s\tremaining: 11m 19s\n",
      "616:\tlearn: 0.1225336\ttotal: 18m 11s\tremaining: 11m 17s\n",
      "617:\tlearn: 0.1224928\ttotal: 18m 13s\tremaining: 11m 15s\n",
      "618:\tlearn: 0.1224660\ttotal: 18m 14s\tremaining: 11m 13s\n",
      "619:\tlearn: 0.1223810\ttotal: 18m 16s\tremaining: 11m 12s\n",
      "620:\tlearn: 0.1223549\ttotal: 18m 18s\tremaining: 11m 10s\n",
      "621:\tlearn: 0.1222989\ttotal: 18m 20s\tremaining: 11m 8s\n",
      "622:\tlearn: 0.1222175\ttotal: 18m 22s\tremaining: 11m 6s\n",
      "623:\tlearn: 0.1221645\ttotal: 18m 23s\tremaining: 11m 5s\n",
      "624:\tlearn: 0.1220762\ttotal: 18m 25s\tremaining: 11m 3s\n",
      "625:\tlearn: 0.1220514\ttotal: 18m 27s\tremaining: 11m 1s\n",
      "626:\tlearn: 0.1220251\ttotal: 18m 28s\tremaining: 10m 59s\n",
      "627:\tlearn: 0.1219848\ttotal: 18m 30s\tremaining: 10m 57s\n",
      "628:\tlearn: 0.1219533\ttotal: 18m 32s\tremaining: 10m 56s\n",
      "629:\tlearn: 0.1219284\ttotal: 18m 34s\tremaining: 10m 54s\n",
      "630:\tlearn: 0.1218548\ttotal: 18m 35s\tremaining: 10m 52s\n",
      "631:\tlearn: 0.1217760\ttotal: 18m 37s\tremaining: 10m 50s\n",
      "632:\tlearn: 0.1217367\ttotal: 18m 39s\tremaining: 10m 48s\n",
      "633:\tlearn: 0.1217104\ttotal: 18m 41s\tremaining: 10m 47s\n",
      "634:\tlearn: 0.1216844\ttotal: 18m 42s\tremaining: 10m 45s\n",
      "635:\tlearn: 0.1216241\ttotal: 18m 44s\tremaining: 10m 43s\n",
      "636:\tlearn: 0.1215609\ttotal: 18m 46s\tremaining: 10m 41s\n",
      "637:\tlearn: 0.1215051\ttotal: 18m 48s\tremaining: 10m 40s\n",
      "638:\tlearn: 0.1214756\ttotal: 18m 49s\tremaining: 10m 38s\n",
      "639:\tlearn: 0.1214496\ttotal: 18m 51s\tremaining: 10m 36s\n",
      "640:\tlearn: 0.1214155\ttotal: 18m 53s\tremaining: 10m 34s\n",
      "641:\tlearn: 0.1213785\ttotal: 18m 55s\tremaining: 10m 32s\n",
      "642:\tlearn: 0.1213538\ttotal: 18m 56s\tremaining: 10m 31s\n",
      "643:\tlearn: 0.1213297\ttotal: 18m 58s\tremaining: 10m 29s\n",
      "644:\tlearn: 0.1213011\ttotal: 19m\tremaining: 10m 27s\n",
      "645:\tlearn: 0.1212676\ttotal: 19m 1s\tremaining: 10m 25s\n",
      "646:\tlearn: 0.1212079\ttotal: 19m 3s\tremaining: 10m 23s\n",
      "647:\tlearn: 0.1211843\ttotal: 19m 5s\tremaining: 10m 22s\n",
      "648:\tlearn: 0.1211292\ttotal: 19m 7s\tremaining: 10m 20s\n",
      "649:\tlearn: 0.1210702\ttotal: 19m 8s\tremaining: 10m 18s\n",
      "650:\tlearn: 0.1210149\ttotal: 19m 10s\tremaining: 10m 16s\n",
      "651:\tlearn: 0.1209751\ttotal: 19m 12s\tremaining: 10m 14s\n",
      "652:\tlearn: 0.1209204\ttotal: 19m 14s\tremaining: 10m 13s\n",
      "653:\tlearn: 0.1208592\ttotal: 19m 15s\tremaining: 10m 11s\n",
      "654:\tlearn: 0.1208339\ttotal: 19m 17s\tremaining: 10m 9s\n",
      "655:\tlearn: 0.1207319\ttotal: 19m 19s\tremaining: 10m 7s\n",
      "656:\tlearn: 0.1207077\ttotal: 19m 20s\tremaining: 10m 6s\n",
      "657:\tlearn: 0.1206465\ttotal: 19m 22s\tremaining: 10m 4s\n",
      "658:\tlearn: 0.1205741\ttotal: 19m 24s\tremaining: 10m 2s\n",
      "659:\tlearn: 0.1205500\ttotal: 19m 26s\tremaining: 10m\n",
      "660:\tlearn: 0.1205190\ttotal: 19m 27s\tremaining: 9m 58s\n",
      "661:\tlearn: 0.1204913\ttotal: 19m 29s\tremaining: 9m 57s\n",
      "662:\tlearn: 0.1204684\ttotal: 19m 31s\tremaining: 9m 55s\n",
      "663:\tlearn: 0.1204186\ttotal: 19m 32s\tremaining: 9m 53s\n",
      "664:\tlearn: 0.1203336\ttotal: 19m 34s\tremaining: 9m 51s\n",
      "665:\tlearn: 0.1202621\ttotal: 19m 36s\tremaining: 9m 50s\n",
      "666:\tlearn: 0.1202383\ttotal: 19m 38s\tremaining: 9m 48s\n",
      "667:\tlearn: 0.1202146\ttotal: 19m 39s\tremaining: 9m 46s\n",
      "668:\tlearn: 0.1201482\ttotal: 19m 41s\tremaining: 9m 44s\n",
      "669:\tlearn: 0.1201256\ttotal: 19m 43s\tremaining: 9m 42s\n",
      "670:\tlearn: 0.1200757\ttotal: 19m 45s\tremaining: 9m 41s\n",
      "671:\tlearn: 0.1199599\ttotal: 19m 46s\tremaining: 9m 39s\n",
      "672:\tlearn: 0.1199290\ttotal: 19m 48s\tremaining: 9m 37s\n",
      "673:\tlearn: 0.1199056\ttotal: 19m 50s\tremaining: 9m 35s\n",
      "674:\tlearn: 0.1198816\ttotal: 19m 51s\tremaining: 9m 33s\n",
      "675:\tlearn: 0.1198584\ttotal: 19m 53s\tremaining: 9m 32s\n",
      "676:\tlearn: 0.1198345\ttotal: 19m 55s\tremaining: 9m 30s\n",
      "677:\tlearn: 0.1197377\ttotal: 19m 57s\tremaining: 9m 28s\n",
      "678:\tlearn: 0.1196783\ttotal: 19m 58s\tremaining: 9m 26s\n",
      "679:\tlearn: 0.1196458\ttotal: 20m\tremaining: 9m 24s\n",
      "680:\tlearn: 0.1195991\ttotal: 20m 2s\tremaining: 9m 23s\n",
      "681:\tlearn: 0.1195285\ttotal: 20m 4s\tremaining: 9m 21s\n",
      "682:\tlearn: 0.1195059\ttotal: 20m 5s\tremaining: 9m 19s\n",
      "683:\tlearn: 0.1194831\ttotal: 20m 7s\tremaining: 9m 17s\n",
      "684:\tlearn: 0.1194533\ttotal: 20m 9s\tremaining: 9m 16s\n",
      "685:\tlearn: 0.1194131\ttotal: 20m 10s\tremaining: 9m 14s\n",
      "686:\tlearn: 0.1193662\ttotal: 20m 12s\tremaining: 9m 12s\n",
      "687:\tlearn: 0.1193398\ttotal: 20m 14s\tremaining: 9m 10s\n",
      "688:\tlearn: 0.1193162\ttotal: 20m 15s\tremaining: 9m 8s\n",
      "689:\tlearn: 0.1192679\ttotal: 20m 17s\tremaining: 9m 7s\n",
      "690:\tlearn: 0.1192288\ttotal: 20m 19s\tremaining: 9m 5s\n",
      "691:\tlearn: 0.1192059\ttotal: 20m 21s\tremaining: 9m 3s\n",
      "692:\tlearn: 0.1191836\ttotal: 20m 22s\tremaining: 9m 1s\n",
      "693:\tlearn: 0.1191490\ttotal: 20m 24s\tremaining: 8m 59s\n",
      "694:\tlearn: 0.1191157\ttotal: 20m 26s\tremaining: 8m 58s\n",
      "695:\tlearn: 0.1190915\ttotal: 20m 27s\tremaining: 8m 56s\n",
      "696:\tlearn: 0.1190700\ttotal: 20m 29s\tremaining: 8m 54s\n",
      "697:\tlearn: 0.1190478\ttotal: 20m 31s\tremaining: 8m 52s\n",
      "698:\tlearn: 0.1189454\ttotal: 20m 33s\tremaining: 8m 50s\n",
      "699:\tlearn: 0.1189222\ttotal: 20m 34s\tremaining: 8m 49s\n",
      "700:\tlearn: 0.1188729\ttotal: 20m 36s\tremaining: 8m 47s\n",
      "701:\tlearn: 0.1188510\ttotal: 20m 38s\tremaining: 8m 45s\n",
      "702:\tlearn: 0.1188284\ttotal: 20m 39s\tremaining: 8m 43s\n",
      "703:\tlearn: 0.1187742\ttotal: 20m 41s\tremaining: 8m 42s\n",
      "704:\tlearn: 0.1187070\ttotal: 20m 43s\tremaining: 8m 40s\n",
      "705:\tlearn: 0.1186847\ttotal: 20m 45s\tremaining: 8m 38s\n",
      "706:\tlearn: 0.1186519\ttotal: 20m 46s\tremaining: 8m 36s\n",
      "707:\tlearn: 0.1186294\ttotal: 20m 48s\tremaining: 8m 34s\n",
      "708:\tlearn: 0.1185610\ttotal: 20m 50s\tremaining: 8m 33s\n",
      "709:\tlearn: 0.1185352\ttotal: 20m 51s\tremaining: 8m 31s\n",
      "710:\tlearn: 0.1184605\ttotal: 20m 53s\tremaining: 8m 29s\n",
      "711:\tlearn: 0.1183987\ttotal: 20m 55s\tremaining: 8m 27s\n",
      "712:\tlearn: 0.1183774\ttotal: 20m 57s\tremaining: 8m 25s\n",
      "713:\tlearn: 0.1183126\ttotal: 20m 58s\tremaining: 8m 24s\n",
      "714:\tlearn: 0.1182913\ttotal: 21m\tremaining: 8m 22s\n",
      "715:\tlearn: 0.1182468\ttotal: 21m 2s\tremaining: 8m 20s\n",
      "716:\tlearn: 0.1181892\ttotal: 21m 3s\tremaining: 8m 18s\n",
      "717:\tlearn: 0.1181313\ttotal: 21m 5s\tremaining: 8m 17s\n",
      "718:\tlearn: 0.1181055\ttotal: 21m 7s\tremaining: 8m 15s\n",
      "719:\tlearn: 0.1180591\ttotal: 21m 9s\tremaining: 8m 13s\n",
      "720:\tlearn: 0.1180290\ttotal: 21m 10s\tremaining: 8m 11s\n",
      "721:\tlearn: 0.1179637\ttotal: 21m 12s\tremaining: 8m 10s\n",
      "722:\tlearn: 0.1179170\ttotal: 21m 14s\tremaining: 8m 8s\n",
      "723:\tlearn: 0.1178547\ttotal: 21m 16s\tremaining: 8m 6s\n",
      "724:\tlearn: 0.1178141\ttotal: 21m 18s\tremaining: 8m 4s\n",
      "725:\tlearn: 0.1177845\ttotal: 21m 19s\tremaining: 8m 2s\n",
      "726:\tlearn: 0.1177570\ttotal: 21m 21s\tremaining: 8m 1s\n",
      "727:\tlearn: 0.1177023\ttotal: 21m 23s\tremaining: 7m 59s\n",
      "728:\tlearn: 0.1176800\ttotal: 21m 24s\tremaining: 7m 57s\n",
      "729:\tlearn: 0.1176587\ttotal: 21m 26s\tremaining: 7m 55s\n",
      "730:\tlearn: 0.1176352\ttotal: 21m 28s\tremaining: 7m 54s\n",
      "731:\tlearn: 0.1175833\ttotal: 21m 30s\tremaining: 7m 52s\n",
      "732:\tlearn: 0.1175352\ttotal: 21m 31s\tremaining: 7m 50s\n",
      "733:\tlearn: 0.1175130\ttotal: 21m 33s\tremaining: 7m 48s\n",
      "734:\tlearn: 0.1174371\ttotal: 21m 35s\tremaining: 7m 47s\n",
      "735:\tlearn: 0.1173899\ttotal: 21m 37s\tremaining: 7m 45s\n",
      "736:\tlearn: 0.1173489\ttotal: 21m 38s\tremaining: 7m 43s\n",
      "737:\tlearn: 0.1173010\ttotal: 21m 40s\tremaining: 7m 41s\n",
      "738:\tlearn: 0.1172801\ttotal: 21m 42s\tremaining: 7m 39s\n",
      "739:\tlearn: 0.1172310\ttotal: 21m 44s\tremaining: 7m 38s\n",
      "740:\tlearn: 0.1172086\ttotal: 21m 45s\tremaining: 7m 36s\n",
      "741:\tlearn: 0.1171885\ttotal: 21m 47s\tremaining: 7m 34s\n",
      "742:\tlearn: 0.1171573\ttotal: 21m 49s\tremaining: 7m 32s\n",
      "743:\tlearn: 0.1171260\ttotal: 21m 50s\tremaining: 7m 31s\n",
      "744:\tlearn: 0.1170897\ttotal: 21m 52s\tremaining: 7m 29s\n",
      "745:\tlearn: 0.1170372\ttotal: 21m 54s\tremaining: 7m 27s\n",
      "746:\tlearn: 0.1170041\ttotal: 21m 55s\tremaining: 7m 25s\n",
      "747:\tlearn: 0.1169464\ttotal: 21m 57s\tremaining: 7m 23s\n",
      "748:\tlearn: 0.1169261\ttotal: 21m 59s\tremaining: 7m 22s\n",
      "749:\tlearn: 0.1168581\ttotal: 22m 1s\tremaining: 7m 20s\n",
      "750:\tlearn: 0.1168270\ttotal: 22m 2s\tremaining: 7m 18s\n",
      "751:\tlearn: 0.1168068\ttotal: 22m 4s\tremaining: 7m 16s\n",
      "752:\tlearn: 0.1167615\ttotal: 22m 6s\tremaining: 7m 15s\n",
      "753:\tlearn: 0.1167188\ttotal: 22m 7s\tremaining: 7m 13s\n",
      "754:\tlearn: 0.1166697\ttotal: 22m 9s\tremaining: 7m 11s\n",
      "755:\tlearn: 0.1166122\ttotal: 22m 11s\tremaining: 7m 9s\n",
      "756:\tlearn: 0.1165461\ttotal: 22m 13s\tremaining: 7m 8s\n",
      "757:\tlearn: 0.1165252\ttotal: 22m 15s\tremaining: 7m 6s\n",
      "758:\tlearn: 0.1165048\ttotal: 22m 16s\tremaining: 7m 4s\n",
      "759:\tlearn: 0.1164504\ttotal: 22m 18s\tremaining: 7m 2s\n",
      "760:\tlearn: 0.1164228\ttotal: 22m 20s\tremaining: 7m\n",
      "761:\tlearn: 0.1163571\ttotal: 22m 21s\tremaining: 6m 59s\n",
      "762:\tlearn: 0.1162833\ttotal: 22m 23s\tremaining: 6m 57s\n",
      "763:\tlearn: 0.1162583\ttotal: 22m 25s\tremaining: 6m 55s\n",
      "764:\tlearn: 0.1161877\ttotal: 22m 27s\tremaining: 6m 53s\n",
      "765:\tlearn: 0.1161648\ttotal: 22m 28s\tremaining: 6m 52s\n",
      "766:\tlearn: 0.1161437\ttotal: 22m 30s\tremaining: 6m 50s\n",
      "767:\tlearn: 0.1160836\ttotal: 22m 32s\tremaining: 6m 48s\n",
      "768:\tlearn: 0.1160375\ttotal: 22m 34s\tremaining: 6m 46s\n",
      "769:\tlearn: 0.1159907\ttotal: 22m 35s\tremaining: 6m 45s\n",
      "770:\tlearn: 0.1159598\ttotal: 22m 37s\tremaining: 6m 43s\n",
      "771:\tlearn: 0.1159169\ttotal: 22m 39s\tremaining: 6m 41s\n",
      "772:\tlearn: 0.1158922\ttotal: 22m 41s\tremaining: 6m 39s\n",
      "773:\tlearn: 0.1158708\ttotal: 22m 42s\tremaining: 6m 37s\n",
      "774:\tlearn: 0.1158519\ttotal: 22m 44s\tremaining: 6m 36s\n",
      "775:\tlearn: 0.1158326\ttotal: 22m 46s\tremaining: 6m 34s\n",
      "776:\tlearn: 0.1157763\ttotal: 22m 48s\tremaining: 6m 32s\n",
      "777:\tlearn: 0.1157559\ttotal: 22m 49s\tremaining: 6m 30s\n",
      "778:\tlearn: 0.1156937\ttotal: 22m 51s\tremaining: 6m 29s\n",
      "779:\tlearn: 0.1156413\ttotal: 22m 53s\tremaining: 6m 27s\n",
      "780:\tlearn: 0.1156177\ttotal: 22m 55s\tremaining: 6m 25s\n",
      "781:\tlearn: 0.1155968\ttotal: 22m 56s\tremaining: 6m 23s\n",
      "782:\tlearn: 0.1155434\ttotal: 22m 58s\tremaining: 6m 22s\n",
      "783:\tlearn: 0.1154952\ttotal: 23m\tremaining: 6m 20s\n",
      "784:\tlearn: 0.1154358\ttotal: 23m 2s\tremaining: 6m 18s\n",
      "785:\tlearn: 0.1154079\ttotal: 23m 4s\tremaining: 6m 16s\n",
      "786:\tlearn: 0.1153766\ttotal: 23m 5s\tremaining: 6m 15s\n",
      "787:\tlearn: 0.1153560\ttotal: 23m 7s\tremaining: 6m 13s\n",
      "788:\tlearn: 0.1153301\ttotal: 23m 9s\tremaining: 6m 11s\n",
      "789:\tlearn: 0.1152875\ttotal: 23m 10s\tremaining: 6m 9s\n",
      "790:\tlearn: 0.1152669\ttotal: 23m 12s\tremaining: 6m 7s\n",
      "791:\tlearn: 0.1151947\ttotal: 23m 14s\tremaining: 6m 6s\n",
      "792:\tlearn: 0.1151754\ttotal: 23m 15s\tremaining: 6m 4s\n",
      "793:\tlearn: 0.1151143\ttotal: 23m 17s\tremaining: 6m 2s\n",
      "794:\tlearn: 0.1150547\ttotal: 23m 19s\tremaining: 6m\n",
      "795:\tlearn: 0.1150351\ttotal: 23m 21s\tremaining: 5m 59s\n",
      "796:\tlearn: 0.1150145\ttotal: 23m 22s\tremaining: 5m 57s\n",
      "797:\tlearn: 0.1149886\ttotal: 23m 24s\tremaining: 5m 55s\n",
      "798:\tlearn: 0.1149684\ttotal: 23m 26s\tremaining: 5m 53s\n",
      "799:\tlearn: 0.1149115\ttotal: 23m 28s\tremaining: 5m 52s\n",
      "800:\tlearn: 0.1148812\ttotal: 23m 29s\tremaining: 5m 50s\n",
      "801:\tlearn: 0.1148483\ttotal: 23m 31s\tremaining: 5m 48s\n",
      "802:\tlearn: 0.1148120\ttotal: 23m 33s\tremaining: 5m 46s\n",
      "803:\tlearn: 0.1147661\ttotal: 23m 35s\tremaining: 5m 45s\n",
      "804:\tlearn: 0.1147103\ttotal: 23m 37s\tremaining: 5m 43s\n",
      "805:\tlearn: 0.1146897\ttotal: 23m 38s\tremaining: 5m 41s\n",
      "806:\tlearn: 0.1146641\ttotal: 23m 40s\tremaining: 5m 39s\n",
      "807:\tlearn: 0.1146114\ttotal: 23m 42s\tremaining: 5m 37s\n",
      "808:\tlearn: 0.1145615\ttotal: 23m 44s\tremaining: 5m 36s\n",
      "809:\tlearn: 0.1145364\ttotal: 23m 45s\tremaining: 5m 34s\n",
      "810:\tlearn: 0.1145161\ttotal: 23m 47s\tremaining: 5m 32s\n",
      "811:\tlearn: 0.1144978\ttotal: 23m 49s\tremaining: 5m 30s\n",
      "812:\tlearn: 0.1144774\ttotal: 23m 50s\tremaining: 5m 29s\n",
      "813:\tlearn: 0.1144509\ttotal: 23m 52s\tremaining: 5m 27s\n",
      "814:\tlearn: 0.1144073\ttotal: 23m 54s\tremaining: 5m 25s\n",
      "815:\tlearn: 0.1143872\ttotal: 23m 55s\tremaining: 5m 23s\n",
      "816:\tlearn: 0.1143679\ttotal: 23m 57s\tremaining: 5m 22s\n",
      "817:\tlearn: 0.1143341\ttotal: 23m 59s\tremaining: 5m 20s\n",
      "818:\tlearn: 0.1142770\ttotal: 24m 1s\tremaining: 5m 18s\n",
      "819:\tlearn: 0.1141881\ttotal: 24m 3s\tremaining: 5m 16s\n",
      "820:\tlearn: 0.1141543\ttotal: 24m 4s\tremaining: 5m 15s\n",
      "821:\tlearn: 0.1141349\ttotal: 24m 6s\tremaining: 5m 13s\n",
      "822:\tlearn: 0.1141161\ttotal: 24m 8s\tremaining: 5m 11s\n",
      "823:\tlearn: 0.1140865\ttotal: 24m 10s\tremaining: 5m 9s\n",
      "824:\tlearn: 0.1140678\ttotal: 24m 11s\tremaining: 5m 7s\n",
      "825:\tlearn: 0.1140487\ttotal: 24m 13s\tremaining: 5m 6s\n",
      "826:\tlearn: 0.1140295\ttotal: 24m 15s\tremaining: 5m 4s\n",
      "827:\tlearn: 0.1139403\ttotal: 24m 17s\tremaining: 5m 2s\n",
      "828:\tlearn: 0.1139165\ttotal: 24m 18s\tremaining: 5m\n",
      "829:\tlearn: 0.1138400\ttotal: 24m 20s\tremaining: 4m 59s\n",
      "830:\tlearn: 0.1137689\ttotal: 24m 22s\tremaining: 4m 57s\n",
      "831:\tlearn: 0.1137301\ttotal: 24m 24s\tremaining: 4m 55s\n",
      "832:\tlearn: 0.1136760\ttotal: 24m 25s\tremaining: 4m 53s\n",
      "833:\tlearn: 0.1136088\ttotal: 24m 27s\tremaining: 4m 52s\n",
      "834:\tlearn: 0.1135569\ttotal: 24m 29s\tremaining: 4m 50s\n",
      "835:\tlearn: 0.1135238\ttotal: 24m 31s\tremaining: 4m 48s\n",
      "836:\tlearn: 0.1135045\ttotal: 24m 32s\tremaining: 4m 46s\n",
      "837:\tlearn: 0.1134325\ttotal: 24m 34s\tremaining: 4m 45s\n",
      "838:\tlearn: 0.1134008\ttotal: 24m 36s\tremaining: 4m 43s\n",
      "839:\tlearn: 0.1133751\ttotal: 24m 38s\tremaining: 4m 41s\n",
      "840:\tlearn: 0.1132810\ttotal: 24m 40s\tremaining: 4m 39s\n",
      "841:\tlearn: 0.1132614\ttotal: 24m 41s\tremaining: 4m 38s\n",
      "842:\tlearn: 0.1132128\ttotal: 24m 43s\tremaining: 4m 36s\n",
      "843:\tlearn: 0.1131561\ttotal: 24m 45s\tremaining: 4m 34s\n",
      "844:\tlearn: 0.1131099\ttotal: 24m 47s\tremaining: 4m 32s\n",
      "845:\tlearn: 0.1130927\ttotal: 24m 49s\tremaining: 4m 31s\n",
      "846:\tlearn: 0.1130496\ttotal: 24m 50s\tremaining: 4m 29s\n",
      "847:\tlearn: 0.1130100\ttotal: 24m 52s\tremaining: 4m 27s\n",
      "848:\tlearn: 0.1129766\ttotal: 24m 54s\tremaining: 4m 25s\n",
      "849:\tlearn: 0.1129576\ttotal: 24m 56s\tremaining: 4m 24s\n",
      "850:\tlearn: 0.1129335\ttotal: 24m 57s\tremaining: 4m 22s\n",
      "851:\tlearn: 0.1128886\ttotal: 24m 59s\tremaining: 4m 20s\n",
      "852:\tlearn: 0.1128588\ttotal: 25m 1s\tremaining: 4m 18s\n",
      "853:\tlearn: 0.1128408\ttotal: 25m 3s\tremaining: 4m 16s\n",
      "854:\tlearn: 0.1128154\ttotal: 25m 4s\tremaining: 4m 15s\n",
      "855:\tlearn: 0.1127517\ttotal: 25m 6s\tremaining: 4m 13s\n",
      "856:\tlearn: 0.1127031\ttotal: 25m 8s\tremaining: 4m 11s\n",
      "857:\tlearn: 0.1126593\ttotal: 25m 10s\tremaining: 4m 9s\n",
      "858:\tlearn: 0.1126011\ttotal: 25m 12s\tremaining: 4m 8s\n",
      "859:\tlearn: 0.1125729\ttotal: 25m 13s\tremaining: 4m 6s\n",
      "860:\tlearn: 0.1125457\ttotal: 25m 15s\tremaining: 4m 4s\n",
      "861:\tlearn: 0.1125267\ttotal: 25m 17s\tremaining: 4m 2s\n",
      "862:\tlearn: 0.1125015\ttotal: 25m 19s\tremaining: 4m 1s\n",
      "863:\tlearn: 0.1124791\ttotal: 25m 20s\tremaining: 3m 59s\n",
      "864:\tlearn: 0.1124269\ttotal: 25m 22s\tremaining: 3m 57s\n",
      "865:\tlearn: 0.1123837\ttotal: 25m 24s\tremaining: 3m 55s\n",
      "866:\tlearn: 0.1123648\ttotal: 25m 26s\tremaining: 3m 54s\n",
      "867:\tlearn: 0.1123224\ttotal: 25m 27s\tremaining: 3m 52s\n",
      "868:\tlearn: 0.1123042\ttotal: 25m 29s\tremaining: 3m 50s\n",
      "869:\tlearn: 0.1122558\ttotal: 25m 31s\tremaining: 3m 48s\n",
      "870:\tlearn: 0.1122379\ttotal: 25m 33s\tremaining: 3m 47s\n",
      "871:\tlearn: 0.1122140\ttotal: 25m 34s\tremaining: 3m 45s\n",
      "872:\tlearn: 0.1121926\ttotal: 25m 36s\tremaining: 3m 43s\n",
      "873:\tlearn: 0.1121753\ttotal: 25m 38s\tremaining: 3m 41s\n",
      "874:\tlearn: 0.1121267\ttotal: 25m 40s\tremaining: 3m 40s\n",
      "875:\tlearn: 0.1120939\ttotal: 25m 41s\tremaining: 3m 38s\n",
      "876:\tlearn: 0.1120358\ttotal: 25m 43s\tremaining: 3m 36s\n",
      "877:\tlearn: 0.1120189\ttotal: 25m 45s\tremaining: 3m 34s\n",
      "878:\tlearn: 0.1119967\ttotal: 25m 47s\tremaining: 3m 32s\n",
      "879:\tlearn: 0.1119739\ttotal: 25m 48s\tremaining: 3m 31s\n",
      "880:\tlearn: 0.1119487\ttotal: 25m 50s\tremaining: 3m 29s\n",
      "881:\tlearn: 0.1119312\ttotal: 25m 52s\tremaining: 3m 27s\n",
      "882:\tlearn: 0.1119130\ttotal: 25m 54s\tremaining: 3m 25s\n",
      "883:\tlearn: 0.1118728\ttotal: 25m 55s\tremaining: 3m 24s\n",
      "884:\tlearn: 0.1117928\ttotal: 25m 57s\tremaining: 3m 22s\n",
      "885:\tlearn: 0.1117742\ttotal: 25m 59s\tremaining: 3m 20s\n",
      "886:\tlearn: 0.1117479\ttotal: 26m\tremaining: 3m 18s\n",
      "887:\tlearn: 0.1117019\ttotal: 26m 2s\tremaining: 3m 17s\n",
      "888:\tlearn: 0.1116364\ttotal: 26m 4s\tremaining: 3m 15s\n",
      "889:\tlearn: 0.1116185\ttotal: 26m 6s\tremaining: 3m 13s\n",
      "890:\tlearn: 0.1115852\ttotal: 26m 7s\tremaining: 3m 11s\n",
      "891:\tlearn: 0.1115272\ttotal: 26m 9s\tremaining: 3m 10s\n",
      "892:\tlearn: 0.1114613\ttotal: 26m 11s\tremaining: 3m 8s\n",
      "893:\tlearn: 0.1114435\ttotal: 26m 13s\tremaining: 3m 6s\n",
      "894:\tlearn: 0.1113882\ttotal: 26m 15s\tremaining: 3m 4s\n",
      "895:\tlearn: 0.1113536\ttotal: 26m 16s\tremaining: 3m 3s\n",
      "896:\tlearn: 0.1113013\ttotal: 26m 18s\tremaining: 3m 1s\n",
      "897:\tlearn: 0.1112318\ttotal: 26m 20s\tremaining: 2m 59s\n",
      "898:\tlearn: 0.1111850\ttotal: 26m 22s\tremaining: 2m 57s\n",
      "899:\tlearn: 0.1111617\ttotal: 26m 23s\tremaining: 2m 55s\n",
      "900:\tlearn: 0.1111195\ttotal: 26m 25s\tremaining: 2m 54s\n",
      "901:\tlearn: 0.1110757\ttotal: 26m 27s\tremaining: 2m 52s\n",
      "902:\tlearn: 0.1110575\ttotal: 26m 29s\tremaining: 2m 50s\n",
      "903:\tlearn: 0.1109643\ttotal: 26m 31s\tremaining: 2m 48s\n",
      "904:\tlearn: 0.1109390\ttotal: 26m 32s\tremaining: 2m 47s\n",
      "905:\tlearn: 0.1109091\ttotal: 26m 34s\tremaining: 2m 45s\n",
      "906:\tlearn: 0.1108909\ttotal: 26m 36s\tremaining: 2m 43s\n",
      "907:\tlearn: 0.1108652\ttotal: 26m 37s\tremaining: 2m 41s\n",
      "908:\tlearn: 0.1108480\ttotal: 26m 39s\tremaining: 2m 40s\n",
      "909:\tlearn: 0.1107962\ttotal: 26m 41s\tremaining: 2m 38s\n",
      "910:\tlearn: 0.1107632\ttotal: 26m 43s\tremaining: 2m 36s\n",
      "911:\tlearn: 0.1106880\ttotal: 26m 44s\tremaining: 2m 34s\n",
      "912:\tlearn: 0.1106325\ttotal: 26m 46s\tremaining: 2m 33s\n",
      "913:\tlearn: 0.1106091\ttotal: 26m 48s\tremaining: 2m 31s\n",
      "914:\tlearn: 0.1105764\ttotal: 26m 50s\tremaining: 2m 29s\n",
      "915:\tlearn: 0.1105395\ttotal: 26m 51s\tremaining: 2m 27s\n",
      "916:\tlearn: 0.1105221\ttotal: 26m 53s\tremaining: 2m 26s\n",
      "917:\tlearn: 0.1105046\ttotal: 26m 55s\tremaining: 2m 24s\n",
      "918:\tlearn: 0.1104845\ttotal: 26m 56s\tremaining: 2m 22s\n",
      "919:\tlearn: 0.1104279\ttotal: 26m 58s\tremaining: 2m 20s\n",
      "920:\tlearn: 0.1104111\ttotal: 27m\tremaining: 2m 18s\n",
      "921:\tlearn: 0.1103416\ttotal: 27m 1s\tremaining: 2m 17s\n",
      "922:\tlearn: 0.1102916\ttotal: 27m 3s\tremaining: 2m 15s\n",
      "923:\tlearn: 0.1102655\ttotal: 27m 5s\tremaining: 2m 13s\n",
      "924:\tlearn: 0.1102468\ttotal: 27m 7s\tremaining: 2m 11s\n",
      "925:\tlearn: 0.1102227\ttotal: 27m 8s\tremaining: 2m 10s\n",
      "926:\tlearn: 0.1101879\ttotal: 27m 10s\tremaining: 2m 8s\n",
      "927:\tlearn: 0.1101699\ttotal: 27m 12s\tremaining: 2m 6s\n",
      "928:\tlearn: 0.1101527\ttotal: 27m 14s\tremaining: 2m 4s\n",
      "929:\tlearn: 0.1101096\ttotal: 27m 15s\tremaining: 2m 3s\n",
      "930:\tlearn: 0.1100826\ttotal: 27m 17s\tremaining: 2m 1s\n",
      "931:\tlearn: 0.1100249\ttotal: 27m 19s\tremaining: 1m 59s\n",
      "932:\tlearn: 0.1099873\ttotal: 27m 20s\tremaining: 1m 57s\n",
      "933:\tlearn: 0.1099390\ttotal: 27m 22s\tremaining: 1m 56s\n",
      "934:\tlearn: 0.1099017\ttotal: 27m 24s\tremaining: 1m 54s\n",
      "935:\tlearn: 0.1098844\ttotal: 27m 26s\tremaining: 1m 52s\n",
      "936:\tlearn: 0.1098512\ttotal: 27m 27s\tremaining: 1m 50s\n",
      "937:\tlearn: 0.1098274\ttotal: 27m 29s\tremaining: 1m 49s\n",
      "938:\tlearn: 0.1098099\ttotal: 27m 31s\tremaining: 1m 47s\n",
      "939:\tlearn: 0.1097937\ttotal: 27m 33s\tremaining: 1m 45s\n",
      "940:\tlearn: 0.1097433\ttotal: 27m 34s\tremaining: 1m 43s\n",
      "941:\tlearn: 0.1097082\ttotal: 27m 36s\tremaining: 1m 41s\n",
      "942:\tlearn: 0.1096806\ttotal: 27m 38s\tremaining: 1m 40s\n",
      "943:\tlearn: 0.1096327\ttotal: 27m 39s\tremaining: 1m 38s\n",
      "944:\tlearn: 0.1095898\ttotal: 27m 41s\tremaining: 1m 36s\n",
      "945:\tlearn: 0.1095571\ttotal: 27m 43s\tremaining: 1m 34s\n",
      "946:\tlearn: 0.1095274\ttotal: 27m 45s\tremaining: 1m 33s\n",
      "947:\tlearn: 0.1095069\ttotal: 27m 46s\tremaining: 1m 31s\n",
      "948:\tlearn: 0.1094907\ttotal: 27m 48s\tremaining: 1m 29s\n",
      "949:\tlearn: 0.1094467\ttotal: 27m 50s\tremaining: 1m 27s\n",
      "950:\tlearn: 0.1094301\ttotal: 27m 52s\tremaining: 1m 26s\n",
      "951:\tlearn: 0.1093427\ttotal: 27m 53s\tremaining: 1m 24s\n",
      "952:\tlearn: 0.1093193\ttotal: 27m 55s\tremaining: 1m 22s\n",
      "953:\tlearn: 0.1092638\ttotal: 27m 57s\tremaining: 1m 20s\n",
      "954:\tlearn: 0.1092202\ttotal: 27m 59s\tremaining: 1m 19s\n",
      "955:\tlearn: 0.1091826\ttotal: 28m\tremaining: 1m 17s\n",
      "956:\tlearn: 0.1091659\ttotal: 28m 2s\tremaining: 1m 15s\n",
      "957:\tlearn: 0.1091495\ttotal: 28m 4s\tremaining: 1m 13s\n",
      "958:\tlearn: 0.1091184\ttotal: 28m 5s\tremaining: 1m 12s\n",
      "959:\tlearn: 0.1090836\ttotal: 28m 7s\tremaining: 1m 10s\n",
      "960:\tlearn: 0.1090398\ttotal: 28m 9s\tremaining: 1m 8s\n",
      "961:\tlearn: 0.1090234\ttotal: 28m 11s\tremaining: 1m 6s\n",
      "962:\tlearn: 0.1090066\ttotal: 28m 12s\tremaining: 1m 5s\n",
      "963:\tlearn: 0.1089565\ttotal: 28m 14s\tremaining: 1m 3s\n",
      "964:\tlearn: 0.1089060\ttotal: 28m 16s\tremaining: 1m 1s\n",
      "965:\tlearn: 0.1088405\ttotal: 28m 18s\tremaining: 59.8s\n",
      "966:\tlearn: 0.1088144\ttotal: 28m 20s\tremaining: 58s\n",
      "967:\tlearn: 0.1087981\ttotal: 28m 21s\tremaining: 56.3s\n",
      "968:\tlearn: 0.1087822\ttotal: 28m 23s\tremaining: 54.5s\n",
      "969:\tlearn: 0.1087426\ttotal: 28m 25s\tremaining: 52.7s\n",
      "970:\tlearn: 0.1086965\ttotal: 28m 27s\tremaining: 51s\n",
      "971:\tlearn: 0.1086560\ttotal: 28m 28s\tremaining: 49.2s\n",
      "972:\tlearn: 0.1086328\ttotal: 28m 30s\tremaining: 47.5s\n",
      "973:\tlearn: 0.1086161\ttotal: 28m 32s\tremaining: 45.7s\n",
      "974:\tlearn: 0.1085768\ttotal: 28m 34s\tremaining: 44s\n",
      "975:\tlearn: 0.1085297\ttotal: 28m 35s\tremaining: 42.2s\n",
      "976:\tlearn: 0.1085135\ttotal: 28m 37s\tremaining: 40.4s\n",
      "977:\tlearn: 0.1084740\ttotal: 28m 39s\tremaining: 38.7s\n",
      "978:\tlearn: 0.1084476\ttotal: 28m 41s\tremaining: 36.9s\n",
      "979:\tlearn: 0.1084298\ttotal: 28m 42s\tremaining: 35.2s\n",
      "980:\tlearn: 0.1084042\ttotal: 28m 44s\tremaining: 33.4s\n",
      "981:\tlearn: 0.1083839\ttotal: 28m 46s\tremaining: 31.6s\n",
      "982:\tlearn: 0.1083381\ttotal: 28m 47s\tremaining: 29.9s\n",
      "983:\tlearn: 0.1082889\ttotal: 28m 49s\tremaining: 28.1s\n",
      "984:\tlearn: 0.1082712\ttotal: 28m 51s\tremaining: 26.4s\n",
      "985:\tlearn: 0.1082183\ttotal: 28m 53s\tremaining: 24.6s\n",
      "986:\tlearn: 0.1081735\ttotal: 28m 55s\tremaining: 22.9s\n",
      "987:\tlearn: 0.1081081\ttotal: 28m 56s\tremaining: 21.1s\n",
      "988:\tlearn: 0.1080763\ttotal: 28m 58s\tremaining: 19.3s\n",
      "989:\tlearn: 0.1080325\ttotal: 29m\tremaining: 17.6s\n",
      "990:\tlearn: 0.1080003\ttotal: 29m 2s\tremaining: 15.8s\n",
      "991:\tlearn: 0.1079622\ttotal: 29m 4s\tremaining: 14.1s\n",
      "992:\tlearn: 0.1079178\ttotal: 29m 5s\tremaining: 12.3s\n",
      "993:\tlearn: 0.1078947\ttotal: 29m 7s\tremaining: 10.5s\n",
      "994:\tlearn: 0.1078523\ttotal: 29m 9s\tremaining: 8.79s\n",
      "995:\tlearn: 0.1077781\ttotal: 29m 11s\tremaining: 7.03s\n",
      "996:\tlearn: 0.1077395\ttotal: 29m 12s\tremaining: 5.27s\n",
      "997:\tlearn: 0.1077238\ttotal: 29m 14s\tremaining: 3.52s\n",
      "998:\tlearn: 0.1077078\ttotal: 29m 16s\tremaining: 1.76s\n",
      "999:\tlearn: 0.1076809\ttotal: 29m 17s\tremaining: 0us\n",
      "[CV 1/5] END ................................iterations=1000; total time=29.8min\n",
      "Learning rate set to 0.072201\n",
      "0:\tlearn: 0.6198347\ttotal: 2.53s\tremaining: 42m 6s\n",
      "1:\tlearn: 0.5598431\ttotal: 4.37s\tremaining: 36m 19s\n",
      "2:\tlearn: 0.5101268\ttotal: 6.25s\tremaining: 34m 37s\n",
      "3:\tlearn: 0.4684761\ttotal: 8.13s\tremaining: 33m 44s\n",
      "4:\tlearn: 0.4327301\ttotal: 9.98s\tremaining: 33m 5s\n",
      "5:\tlearn: 0.4015671\ttotal: 11.9s\tremaining: 32m 50s\n",
      "6:\tlearn: 0.3754193\ttotal: 13.8s\tremaining: 32m 33s\n",
      "7:\tlearn: 0.3539238\ttotal: 15.7s\tremaining: 32m 22s\n",
      "8:\tlearn: 0.3358495\ttotal: 17.6s\tremaining: 32m 14s\n",
      "9:\tlearn: 0.3202758\ttotal: 19.5s\tremaining: 32m 7s\n",
      "10:\tlearn: 0.3072504\ttotal: 21.4s\tremaining: 32m 2s\n",
      "11:\tlearn: 0.2962790\ttotal: 23.3s\tremaining: 31m 56s\n",
      "12:\tlearn: 0.2869642\ttotal: 25.2s\tremaining: 31m 49s\n",
      "13:\tlearn: 0.2789059\ttotal: 27s\tremaining: 31m 44s\n",
      "14:\tlearn: 0.2720176\ttotal: 29s\tremaining: 31m 41s\n",
      "15:\tlearn: 0.2658808\ttotal: 30.9s\tremaining: 31m 38s\n",
      "16:\tlearn: 0.2606912\ttotal: 32.8s\tremaining: 31m 35s\n",
      "17:\tlearn: 0.2559772\ttotal: 34.7s\tremaining: 31m 32s\n",
      "18:\tlearn: 0.2513712\ttotal: 36.6s\tremaining: 31m 27s\n",
      "19:\tlearn: 0.2477522\ttotal: 38.5s\tremaining: 31m 25s\n",
      "20:\tlearn: 0.2446453\ttotal: 40.4s\tremaining: 31m 21s\n",
      "21:\tlearn: 0.2419192\ttotal: 42.2s\tremaining: 31m 16s\n",
      "22:\tlearn: 0.2387839\ttotal: 44.1s\tremaining: 31m 14s\n",
      "23:\tlearn: 0.2365522\ttotal: 46s\tremaining: 31m 10s\n",
      "24:\tlearn: 0.2344804\ttotal: 47.8s\tremaining: 31m 6s\n",
      "25:\tlearn: 0.2319619\ttotal: 49.7s\tremaining: 31m 2s\n",
      "26:\tlearn: 0.2301578\ttotal: 51.6s\tremaining: 30m 58s\n",
      "27:\tlearn: 0.2279313\ttotal: 53.5s\tremaining: 30m 55s\n",
      "28:\tlearn: 0.2264396\ttotal: 55.4s\tremaining: 30m 53s\n",
      "29:\tlearn: 0.2251294\ttotal: 57.2s\tremaining: 30m 50s\n",
      "30:\tlearn: 0.2235746\ttotal: 59.2s\tremaining: 30m 49s\n",
      "31:\tlearn: 0.2223231\ttotal: 1m 1s\tremaining: 30m 46s\n",
      "32:\tlearn: 0.2209484\ttotal: 1m 2s\tremaining: 30m 44s\n",
      "33:\tlearn: 0.2199266\ttotal: 1m 4s\tremaining: 30m 41s\n",
      "34:\tlearn: 0.2188759\ttotal: 1m 6s\tremaining: 30m 38s\n",
      "35:\tlearn: 0.2175972\ttotal: 1m 8s\tremaining: 30m 36s\n",
      "36:\tlearn: 0.2168083\ttotal: 1m 10s\tremaining: 30m 32s\n",
      "37:\tlearn: 0.2159640\ttotal: 1m 12s\tremaining: 30m 29s\n",
      "38:\tlearn: 0.2149715\ttotal: 1m 14s\tremaining: 30m 26s\n",
      "39:\tlearn: 0.2136235\ttotal: 1m 16s\tremaining: 30m 24s\n",
      "40:\tlearn: 0.2127121\ttotal: 1m 17s\tremaining: 30m 21s\n",
      "41:\tlearn: 0.2119472\ttotal: 1m 19s\tremaining: 30m 18s\n",
      "42:\tlearn: 0.2110420\ttotal: 1m 21s\tremaining: 30m 14s\n",
      "43:\tlearn: 0.2101546\ttotal: 1m 23s\tremaining: 30m 11s\n",
      "44:\tlearn: 0.2091192\ttotal: 1m 25s\tremaining: 30m 10s\n",
      "45:\tlearn: 0.2083629\ttotal: 1m 27s\tremaining: 30m 7s\n",
      "46:\tlearn: 0.2075032\ttotal: 1m 29s\tremaining: 30m 6s\n",
      "47:\tlearn: 0.2069006\ttotal: 1m 30s\tremaining: 30m 2s\n",
      "48:\tlearn: 0.2061921\ttotal: 1m 32s\tremaining: 29m 59s\n",
      "49:\tlearn: 0.2054468\ttotal: 1m 34s\tremaining: 29m 56s\n",
      "50:\tlearn: 0.2045943\ttotal: 1m 36s\tremaining: 29m 54s\n",
      "51:\tlearn: 0.2040476\ttotal: 1m 38s\tremaining: 29m 52s\n",
      "52:\tlearn: 0.2035089\ttotal: 1m 40s\tremaining: 29m 49s\n",
      "53:\tlearn: 0.2028661\ttotal: 1m 41s\tremaining: 29m 46s\n",
      "54:\tlearn: 0.2023441\ttotal: 1m 43s\tremaining: 29m 43s\n",
      "55:\tlearn: 0.2017816\ttotal: 1m 45s\tremaining: 29m 39s\n",
      "56:\tlearn: 0.2012038\ttotal: 1m 47s\tremaining: 29m 36s\n",
      "57:\tlearn: 0.2005664\ttotal: 1m 49s\tremaining: 29m 34s\n",
      "58:\tlearn: 0.2000438\ttotal: 1m 51s\tremaining: 29m 32s\n",
      "59:\tlearn: 0.1995642\ttotal: 1m 52s\tremaining: 29m 29s\n",
      "60:\tlearn: 0.1989834\ttotal: 1m 54s\tremaining: 29m 27s\n",
      "61:\tlearn: 0.1985677\ttotal: 1m 56s\tremaining: 29m 24s\n",
      "62:\tlearn: 0.1978595\ttotal: 1m 58s\tremaining: 29m 22s\n",
      "63:\tlearn: 0.1971822\ttotal: 2m\tremaining: 29m 20s\n",
      "64:\tlearn: 0.1963328\ttotal: 2m 2s\tremaining: 29m 17s\n",
      "65:\tlearn: 0.1959351\ttotal: 2m 4s\tremaining: 29m 14s\n",
      "66:\tlearn: 0.1955137\ttotal: 2m 5s\tremaining: 29m 12s\n",
      "67:\tlearn: 0.1949352\ttotal: 2m 7s\tremaining: 29m 9s\n",
      "68:\tlearn: 0.1945433\ttotal: 2m 9s\tremaining: 29m 7s\n",
      "69:\tlearn: 0.1941094\ttotal: 2m 11s\tremaining: 29m 5s\n",
      "70:\tlearn: 0.1936271\ttotal: 2m 13s\tremaining: 29m 1s\n",
      "71:\tlearn: 0.1932605\ttotal: 2m 14s\tremaining: 28m 59s\n",
      "72:\tlearn: 0.1928030\ttotal: 2m 16s\tremaining: 28m 56s\n",
      "73:\tlearn: 0.1924656\ttotal: 2m 18s\tremaining: 28m 54s\n",
      "74:\tlearn: 0.1920958\ttotal: 2m 20s\tremaining: 28m 51s\n",
      "75:\tlearn: 0.1917207\ttotal: 2m 22s\tremaining: 28m 49s\n",
      "76:\tlearn: 0.1913336\ttotal: 2m 24s\tremaining: 28m 46s\n",
      "77:\tlearn: 0.1910125\ttotal: 2m 25s\tremaining: 28m 43s\n",
      "78:\tlearn: 0.1904733\ttotal: 2m 27s\tremaining: 28m 41s\n",
      "79:\tlearn: 0.1900107\ttotal: 2m 29s\tremaining: 28m 38s\n",
      "80:\tlearn: 0.1896888\ttotal: 2m 31s\tremaining: 28m 35s\n",
      "81:\tlearn: 0.1893901\ttotal: 2m 33s\tremaining: 28m 33s\n",
      "82:\tlearn: 0.1889891\ttotal: 2m 34s\tremaining: 28m 31s\n",
      "83:\tlearn: 0.1884694\ttotal: 2m 36s\tremaining: 28m 28s\n",
      "84:\tlearn: 0.1881500\ttotal: 2m 38s\tremaining: 28m 25s\n",
      "85:\tlearn: 0.1877371\ttotal: 2m 40s\tremaining: 28m 24s\n",
      "86:\tlearn: 0.1873880\ttotal: 2m 42s\tremaining: 28m 21s\n",
      "87:\tlearn: 0.1870645\ttotal: 2m 43s\tremaining: 28m 18s\n",
      "88:\tlearn: 0.1867149\ttotal: 2m 45s\tremaining: 28m 16s\n",
      "89:\tlearn: 0.1863819\ttotal: 2m 47s\tremaining: 28m 13s\n",
      "90:\tlearn: 0.1857549\ttotal: 2m 49s\tremaining: 28m 11s\n",
      "91:\tlearn: 0.1854592\ttotal: 2m 51s\tremaining: 28m 8s\n",
      "92:\tlearn: 0.1850746\ttotal: 2m 52s\tremaining: 28m 5s\n",
      "93:\tlearn: 0.1847763\ttotal: 2m 54s\tremaining: 28m 3s\n",
      "94:\tlearn: 0.1844464\ttotal: 2m 56s\tremaining: 28m\n",
      "95:\tlearn: 0.1841533\ttotal: 2m 58s\tremaining: 27m 57s\n",
      "96:\tlearn: 0.1838477\ttotal: 2m 59s\tremaining: 27m 54s\n",
      "97:\tlearn: 0.1835824\ttotal: 3m 1s\tremaining: 27m 51s\n",
      "98:\tlearn: 0.1832915\ttotal: 3m 3s\tremaining: 27m 49s\n",
      "99:\tlearn: 0.1829121\ttotal: 3m 5s\tremaining: 27m 46s\n",
      "100:\tlearn: 0.1826337\ttotal: 3m 6s\tremaining: 27m 44s\n",
      "101:\tlearn: 0.1822945\ttotal: 3m 8s\tremaining: 27m 41s\n",
      "102:\tlearn: 0.1820174\ttotal: 3m 10s\tremaining: 27m 39s\n",
      "103:\tlearn: 0.1817458\ttotal: 3m 12s\tremaining: 27m 36s\n",
      "104:\tlearn: 0.1813881\ttotal: 3m 14s\tremaining: 27m 34s\n",
      "105:\tlearn: 0.1810426\ttotal: 3m 15s\tremaining: 27m 31s\n",
      "106:\tlearn: 0.1807393\ttotal: 3m 17s\tremaining: 27m 29s\n",
      "107:\tlearn: 0.1804396\ttotal: 3m 19s\tremaining: 27m 27s\n",
      "108:\tlearn: 0.1801649\ttotal: 3m 21s\tremaining: 27m 24s\n",
      "109:\tlearn: 0.1799085\ttotal: 3m 22s\tremaining: 27m 22s\n",
      "110:\tlearn: 0.1795454\ttotal: 3m 24s\tremaining: 27m 20s\n",
      "111:\tlearn: 0.1793407\ttotal: 3m 26s\tremaining: 27m 18s\n",
      "112:\tlearn: 0.1790973\ttotal: 3m 28s\tremaining: 27m 16s\n",
      "113:\tlearn: 0.1786851\ttotal: 3m 30s\tremaining: 27m 14s\n",
      "114:\tlearn: 0.1783997\ttotal: 3m 32s\tremaining: 27m 11s\n",
      "115:\tlearn: 0.1781540\ttotal: 3m 33s\tremaining: 27m 9s\n",
      "116:\tlearn: 0.1778853\ttotal: 3m 35s\tremaining: 27m 7s\n",
      "117:\tlearn: 0.1774635\ttotal: 3m 37s\tremaining: 27m 5s\n",
      "118:\tlearn: 0.1770485\ttotal: 3m 39s\tremaining: 27m 2s\n",
      "119:\tlearn: 0.1768217\ttotal: 3m 40s\tremaining: 27m\n",
      "120:\tlearn: 0.1764961\ttotal: 3m 42s\tremaining: 26m 58s\n",
      "121:\tlearn: 0.1761580\ttotal: 3m 44s\tremaining: 26m 56s\n",
      "122:\tlearn: 0.1759366\ttotal: 3m 46s\tremaining: 26m 53s\n",
      "123:\tlearn: 0.1755560\ttotal: 3m 48s\tremaining: 26m 51s\n",
      "124:\tlearn: 0.1752821\ttotal: 3m 49s\tremaining: 26m 49s\n",
      "125:\tlearn: 0.1749949\ttotal: 3m 51s\tremaining: 26m 47s\n",
      "126:\tlearn: 0.1747850\ttotal: 3m 53s\tremaining: 26m 45s\n",
      "127:\tlearn: 0.1744768\ttotal: 3m 55s\tremaining: 26m 43s\n",
      "128:\tlearn: 0.1742794\ttotal: 3m 57s\tremaining: 26m 40s\n",
      "129:\tlearn: 0.1740270\ttotal: 3m 58s\tremaining: 26m 39s\n",
      "130:\tlearn: 0.1738046\ttotal: 4m\tremaining: 26m 36s\n",
      "131:\tlearn: 0.1736053\ttotal: 4m 2s\tremaining: 26m 34s\n",
      "132:\tlearn: 0.1733200\ttotal: 4m 4s\tremaining: 26m 31s\n",
      "133:\tlearn: 0.1729420\ttotal: 4m 6s\tremaining: 26m 29s\n",
      "134:\tlearn: 0.1727554\ttotal: 4m 7s\tremaining: 26m 27s\n",
      "135:\tlearn: 0.1724221\ttotal: 4m 9s\tremaining: 26m 25s\n",
      "136:\tlearn: 0.1721252\ttotal: 4m 11s\tremaining: 26m 23s\n",
      "137:\tlearn: 0.1719164\ttotal: 4m 13s\tremaining: 26m 20s\n",
      "138:\tlearn: 0.1717005\ttotal: 4m 14s\tremaining: 26m 18s\n",
      "139:\tlearn: 0.1715165\ttotal: 4m 16s\tremaining: 26m 16s\n",
      "140:\tlearn: 0.1713100\ttotal: 4m 18s\tremaining: 26m 14s\n",
      "141:\tlearn: 0.1710917\ttotal: 4m 20s\tremaining: 26m 12s\n",
      "142:\tlearn: 0.1709052\ttotal: 4m 21s\tremaining: 26m 9s\n",
      "143:\tlearn: 0.1705914\ttotal: 4m 23s\tremaining: 26m 7s\n",
      "144:\tlearn: 0.1704101\ttotal: 4m 25s\tremaining: 26m 4s\n",
      "145:\tlearn: 0.1702268\ttotal: 4m 27s\tremaining: 26m 2s\n",
      "146:\tlearn: 0.1700280\ttotal: 4m 29s\tremaining: 26m 1s\n",
      "147:\tlearn: 0.1698588\ttotal: 4m 30s\tremaining: 25m 58s\n",
      "148:\tlearn: 0.1695683\ttotal: 4m 32s\tremaining: 25m 57s\n",
      "149:\tlearn: 0.1693253\ttotal: 4m 34s\tremaining: 25m 54s\n",
      "150:\tlearn: 0.1691292\ttotal: 4m 36s\tremaining: 25m 52s\n",
      "151:\tlearn: 0.1688425\ttotal: 4m 37s\tremaining: 25m 50s\n",
      "152:\tlearn: 0.1686760\ttotal: 4m 39s\tremaining: 25m 48s\n",
      "153:\tlearn: 0.1683896\ttotal: 4m 41s\tremaining: 25m 45s\n",
      "154:\tlearn: 0.1681905\ttotal: 4m 43s\tremaining: 25m 44s\n",
      "155:\tlearn: 0.1680246\ttotal: 4m 45s\tremaining: 25m 42s\n",
      "156:\tlearn: 0.1678530\ttotal: 4m 46s\tremaining: 25m 39s\n",
      "157:\tlearn: 0.1676390\ttotal: 4m 48s\tremaining: 25m 37s\n",
      "158:\tlearn: 0.1674579\ttotal: 4m 50s\tremaining: 25m 35s\n",
      "159:\tlearn: 0.1672958\ttotal: 4m 52s\tremaining: 25m 33s\n",
      "160:\tlearn: 0.1671053\ttotal: 4m 53s\tremaining: 25m 31s\n",
      "161:\tlearn: 0.1668720\ttotal: 4m 55s\tremaining: 25m 28s\n",
      "162:\tlearn: 0.1666327\ttotal: 4m 57s\tremaining: 25m 26s\n",
      "163:\tlearn: 0.1663981\ttotal: 4m 59s\tremaining: 25m 24s\n",
      "164:\tlearn: 0.1662526\ttotal: 5m\tremaining: 25m 22s\n",
      "165:\tlearn: 0.1660857\ttotal: 5m 2s\tremaining: 25m 20s\n",
      "166:\tlearn: 0.1658706\ttotal: 5m 4s\tremaining: 25m 17s\n",
      "167:\tlearn: 0.1655327\ttotal: 5m 6s\tremaining: 25m 16s\n",
      "168:\tlearn: 0.1653289\ttotal: 5m 7s\tremaining: 25m 14s\n",
      "169:\tlearn: 0.1651952\ttotal: 5m 9s\tremaining: 25m 11s\n",
      "170:\tlearn: 0.1649870\ttotal: 5m 11s\tremaining: 25m 10s\n",
      "171:\tlearn: 0.1648071\ttotal: 5m 13s\tremaining: 25m 7s\n",
      "172:\tlearn: 0.1646654\ttotal: 5m 14s\tremaining: 25m 5s\n",
      "173:\tlearn: 0.1643476\ttotal: 5m 16s\tremaining: 25m 3s\n",
      "174:\tlearn: 0.1642121\ttotal: 5m 18s\tremaining: 25m 1s\n",
      "175:\tlearn: 0.1640027\ttotal: 5m 20s\tremaining: 24m 59s\n",
      "176:\tlearn: 0.1638452\ttotal: 5m 22s\tremaining: 24m 57s\n",
      "177:\tlearn: 0.1637188\ttotal: 5m 23s\tremaining: 24m 55s\n",
      "178:\tlearn: 0.1634607\ttotal: 5m 25s\tremaining: 24m 53s\n",
      "179:\tlearn: 0.1632881\ttotal: 5m 27s\tremaining: 24m 51s\n",
      "180:\tlearn: 0.1631324\ttotal: 5m 29s\tremaining: 24m 49s\n",
      "181:\tlearn: 0.1630057\ttotal: 5m 30s\tremaining: 24m 47s\n",
      "182:\tlearn: 0.1627312\ttotal: 5m 32s\tremaining: 24m 45s\n",
      "183:\tlearn: 0.1625582\ttotal: 5m 34s\tremaining: 24m 43s\n",
      "184:\tlearn: 0.1622851\ttotal: 5m 36s\tremaining: 24m 41s\n",
      "185:\tlearn: 0.1621437\ttotal: 5m 37s\tremaining: 24m 39s\n",
      "186:\tlearn: 0.1619537\ttotal: 5m 39s\tremaining: 24m 37s\n",
      "187:\tlearn: 0.1618004\ttotal: 5m 41s\tremaining: 24m 35s\n",
      "188:\tlearn: 0.1616129\ttotal: 5m 43s\tremaining: 24m 33s\n",
      "189:\tlearn: 0.1613921\ttotal: 5m 45s\tremaining: 24m 31s\n",
      "190:\tlearn: 0.1611935\ttotal: 5m 46s\tremaining: 24m 28s\n",
      "191:\tlearn: 0.1610548\ttotal: 5m 48s\tremaining: 24m 26s\n",
      "192:\tlearn: 0.1607790\ttotal: 5m 50s\tremaining: 24m 24s\n",
      "193:\tlearn: 0.1606542\ttotal: 5m 52s\tremaining: 24m 22s\n",
      "194:\tlearn: 0.1604898\ttotal: 5m 53s\tremaining: 24m 20s\n",
      "195:\tlearn: 0.1603096\ttotal: 5m 55s\tremaining: 24m 18s\n",
      "196:\tlearn: 0.1601321\ttotal: 5m 57s\tremaining: 24m 16s\n",
      "197:\tlearn: 0.1599270\ttotal: 5m 59s\tremaining: 24m 14s\n",
      "198:\tlearn: 0.1597863\ttotal: 6m\tremaining: 24m 12s\n",
      "199:\tlearn: 0.1595978\ttotal: 6m 2s\tremaining: 24m 10s\n",
      "200:\tlearn: 0.1593900\ttotal: 6m 4s\tremaining: 24m 8s\n",
      "201:\tlearn: 0.1592664\ttotal: 6m 6s\tremaining: 24m 6s\n",
      "202:\tlearn: 0.1591189\ttotal: 6m 7s\tremaining: 24m 4s\n",
      "203:\tlearn: 0.1589277\ttotal: 6m 9s\tremaining: 24m 2s\n",
      "204:\tlearn: 0.1587816\ttotal: 6m 11s\tremaining: 24m\n",
      "205:\tlearn: 0.1586573\ttotal: 6m 13s\tremaining: 23m 58s\n",
      "206:\tlearn: 0.1585459\ttotal: 6m 14s\tremaining: 23m 55s\n",
      "207:\tlearn: 0.1584392\ttotal: 6m 16s\tremaining: 23m 53s\n",
      "208:\tlearn: 0.1582605\ttotal: 6m 18s\tremaining: 23m 51s\n",
      "209:\tlearn: 0.1580879\ttotal: 6m 20s\tremaining: 23m 49s\n",
      "210:\tlearn: 0.1579714\ttotal: 6m 21s\tremaining: 23m 47s\n",
      "211:\tlearn: 0.1578275\ttotal: 6m 23s\tremaining: 23m 45s\n",
      "212:\tlearn: 0.1576436\ttotal: 6m 25s\tremaining: 23m 43s\n",
      "213:\tlearn: 0.1575364\ttotal: 6m 27s\tremaining: 23m 41s\n",
      "214:\tlearn: 0.1574285\ttotal: 6m 28s\tremaining: 23m 39s\n",
      "215:\tlearn: 0.1572584\ttotal: 6m 30s\tremaining: 23m 37s\n",
      "216:\tlearn: 0.1571462\ttotal: 6m 32s\tremaining: 23m 35s\n",
      "217:\tlearn: 0.1569423\ttotal: 6m 34s\tremaining: 23m 33s\n",
      "218:\tlearn: 0.1567992\ttotal: 6m 35s\tremaining: 23m 32s\n",
      "219:\tlearn: 0.1566701\ttotal: 6m 37s\tremaining: 23m 29s\n",
      "220:\tlearn: 0.1565311\ttotal: 6m 39s\tremaining: 23m 27s\n",
      "221:\tlearn: 0.1563257\ttotal: 6m 41s\tremaining: 23m 26s\n",
      "222:\tlearn: 0.1561932\ttotal: 6m 42s\tremaining: 23m 24s\n",
      "223:\tlearn: 0.1559743\ttotal: 6m 44s\tremaining: 23m 22s\n",
      "224:\tlearn: 0.1558864\ttotal: 6m 46s\tremaining: 23m 19s\n",
      "225:\tlearn: 0.1557573\ttotal: 6m 48s\tremaining: 23m 18s\n",
      "226:\tlearn: 0.1556068\ttotal: 6m 49s\tremaining: 23m 16s\n",
      "227:\tlearn: 0.1553660\ttotal: 6m 51s\tremaining: 23m 14s\n",
      "228:\tlearn: 0.1551676\ttotal: 6m 53s\tremaining: 23m 12s\n",
      "229:\tlearn: 0.1550429\ttotal: 6m 55s\tremaining: 23m 10s\n",
      "230:\tlearn: 0.1549350\ttotal: 6m 57s\tremaining: 23m 8s\n",
      "231:\tlearn: 0.1547948\ttotal: 6m 58s\tremaining: 23m 6s\n",
      "232:\tlearn: 0.1545664\ttotal: 7m\tremaining: 23m 4s\n",
      "233:\tlearn: 0.1544179\ttotal: 7m 2s\tremaining: 23m 2s\n",
      "234:\tlearn: 0.1543183\ttotal: 7m 4s\tremaining: 23m\n",
      "235:\tlearn: 0.1541875\ttotal: 7m 5s\tremaining: 22m 58s\n",
      "236:\tlearn: 0.1540671\ttotal: 7m 7s\tremaining: 22m 56s\n",
      "237:\tlearn: 0.1539261\ttotal: 7m 9s\tremaining: 22m 54s\n",
      "238:\tlearn: 0.1538077\ttotal: 7m 11s\tremaining: 22m 52s\n",
      "239:\tlearn: 0.1536896\ttotal: 7m 12s\tremaining: 22m 50s\n",
      "240:\tlearn: 0.1534310\ttotal: 7m 14s\tremaining: 22m 49s\n",
      "241:\tlearn: 0.1532716\ttotal: 7m 16s\tremaining: 22m 47s\n",
      "242:\tlearn: 0.1531757\ttotal: 7m 18s\tremaining: 22m 45s\n",
      "243:\tlearn: 0.1530000\ttotal: 7m 20s\tremaining: 22m 43s\n",
      "244:\tlearn: 0.1528715\ttotal: 7m 21s\tremaining: 22m 41s\n",
      "245:\tlearn: 0.1527430\ttotal: 7m 23s\tremaining: 22m 39s\n",
      "246:\tlearn: 0.1526463\ttotal: 7m 25s\tremaining: 22m 37s\n",
      "247:\tlearn: 0.1525266\ttotal: 7m 26s\tremaining: 22m 35s\n",
      "248:\tlearn: 0.1524327\ttotal: 7m 28s\tremaining: 22m 33s\n",
      "249:\tlearn: 0.1523024\ttotal: 7m 30s\tremaining: 22m 31s\n",
      "250:\tlearn: 0.1521938\ttotal: 7m 32s\tremaining: 22m 29s\n",
      "251:\tlearn: 0.1520376\ttotal: 7m 33s\tremaining: 22m 27s\n",
      "252:\tlearn: 0.1519049\ttotal: 7m 35s\tremaining: 22m 25s\n",
      "253:\tlearn: 0.1517867\ttotal: 7m 37s\tremaining: 22m 23s\n",
      "254:\tlearn: 0.1516791\ttotal: 7m 39s\tremaining: 22m 21s\n",
      "255:\tlearn: 0.1514974\ttotal: 7m 41s\tremaining: 22m 19s\n",
      "256:\tlearn: 0.1513944\ttotal: 7m 42s\tremaining: 22m 17s\n",
      "257:\tlearn: 0.1512616\ttotal: 7m 44s\tremaining: 22m 15s\n",
      "258:\tlearn: 0.1511497\ttotal: 7m 46s\tremaining: 22m 13s\n",
      "259:\tlearn: 0.1510202\ttotal: 7m 47s\tremaining: 22m 11s\n",
      "260:\tlearn: 0.1508883\ttotal: 7m 49s\tremaining: 22m 9s\n",
      "261:\tlearn: 0.1508075\ttotal: 7m 51s\tremaining: 22m 7s\n",
      "262:\tlearn: 0.1507177\ttotal: 7m 53s\tremaining: 22m 5s\n",
      "263:\tlearn: 0.1504935\ttotal: 7m 54s\tremaining: 22m 4s\n",
      "264:\tlearn: 0.1503523\ttotal: 7m 56s\tremaining: 22m 2s\n",
      "265:\tlearn: 0.1502762\ttotal: 7m 58s\tremaining: 22m\n",
      "266:\tlearn: 0.1501597\ttotal: 8m\tremaining: 21m 58s\n",
      "267:\tlearn: 0.1500316\ttotal: 8m 2s\tremaining: 21m 56s\n",
      "268:\tlearn: 0.1499199\ttotal: 8m 3s\tremaining: 21m 54s\n",
      "269:\tlearn: 0.1498327\ttotal: 8m 5s\tremaining: 21m 52s\n",
      "270:\tlearn: 0.1497409\ttotal: 8m 7s\tremaining: 21m 50s\n",
      "271:\tlearn: 0.1496352\ttotal: 8m 8s\tremaining: 21m 48s\n",
      "272:\tlearn: 0.1495241\ttotal: 8m 10s\tremaining: 21m 46s\n",
      "273:\tlearn: 0.1493764\ttotal: 8m 12s\tremaining: 21m 45s\n",
      "274:\tlearn: 0.1492672\ttotal: 8m 14s\tremaining: 21m 43s\n",
      "275:\tlearn: 0.1490928\ttotal: 8m 16s\tremaining: 21m 41s\n",
      "276:\tlearn: 0.1489868\ttotal: 8m 17s\tremaining: 21m 39s\n",
      "277:\tlearn: 0.1488320\ttotal: 8m 19s\tremaining: 21m 37s\n",
      "278:\tlearn: 0.1487188\ttotal: 8m 21s\tremaining: 21m 35s\n",
      "279:\tlearn: 0.1486122\ttotal: 8m 23s\tremaining: 21m 34s\n",
      "280:\tlearn: 0.1485099\ttotal: 8m 25s\tremaining: 21m 32s\n",
      "281:\tlearn: 0.1483611\ttotal: 8m 26s\tremaining: 21m 30s\n",
      "282:\tlearn: 0.1482027\ttotal: 8m 28s\tremaining: 21m 28s\n",
      "283:\tlearn: 0.1481036\ttotal: 8m 30s\tremaining: 21m 26s\n",
      "284:\tlearn: 0.1479624\ttotal: 8m 32s\tremaining: 21m 24s\n",
      "285:\tlearn: 0.1478921\ttotal: 8m 33s\tremaining: 21m 22s\n",
      "286:\tlearn: 0.1477992\ttotal: 8m 35s\tremaining: 21m 20s\n",
      "287:\tlearn: 0.1476890\ttotal: 8m 37s\tremaining: 21m 19s\n",
      "288:\tlearn: 0.1475546\ttotal: 8m 39s\tremaining: 21m 17s\n",
      "289:\tlearn: 0.1474414\ttotal: 8m 40s\tremaining: 21m 15s\n",
      "290:\tlearn: 0.1473701\ttotal: 8m 42s\tremaining: 21m 13s\n",
      "291:\tlearn: 0.1472339\ttotal: 8m 44s\tremaining: 21m 11s\n",
      "292:\tlearn: 0.1471159\ttotal: 8m 46s\tremaining: 21m 9s\n",
      "293:\tlearn: 0.1470171\ttotal: 8m 48s\tremaining: 21m 7s\n",
      "294:\tlearn: 0.1469041\ttotal: 8m 49s\tremaining: 21m 6s\n",
      "295:\tlearn: 0.1468211\ttotal: 8m 51s\tremaining: 21m 4s\n",
      "296:\tlearn: 0.1466954\ttotal: 8m 53s\tremaining: 21m 2s\n",
      "297:\tlearn: 0.1466285\ttotal: 8m 54s\tremaining: 21m\n",
      "298:\tlearn: 0.1464845\ttotal: 8m 56s\tremaining: 20m 58s\n",
      "299:\tlearn: 0.1463273\ttotal: 8m 58s\tremaining: 20m 56s\n",
      "300:\tlearn: 0.1462249\ttotal: 9m\tremaining: 20m 54s\n",
      "301:\tlearn: 0.1461202\ttotal: 9m 2s\tremaining: 20m 52s\n",
      "302:\tlearn: 0.1460422\ttotal: 9m 3s\tremaining: 20m 51s\n",
      "303:\tlearn: 0.1458880\ttotal: 9m 5s\tremaining: 20m 49s\n",
      "304:\tlearn: 0.1457947\ttotal: 9m 7s\tremaining: 20m 47s\n",
      "305:\tlearn: 0.1456856\ttotal: 9m 9s\tremaining: 20m 45s\n",
      "306:\tlearn: 0.1455813\ttotal: 9m 10s\tremaining: 20m 43s\n",
      "307:\tlearn: 0.1455080\ttotal: 9m 12s\tremaining: 20m 41s\n",
      "308:\tlearn: 0.1454187\ttotal: 9m 14s\tremaining: 20m 39s\n",
      "309:\tlearn: 0.1453270\ttotal: 9m 16s\tremaining: 20m 37s\n",
      "310:\tlearn: 0.1452567\ttotal: 9m 17s\tremaining: 20m 35s\n",
      "311:\tlearn: 0.1451541\ttotal: 9m 19s\tremaining: 20m 34s\n",
      "312:\tlearn: 0.1450003\ttotal: 9m 21s\tremaining: 20m 32s\n",
      "313:\tlearn: 0.1449378\ttotal: 9m 23s\tremaining: 20m 30s\n",
      "314:\tlearn: 0.1448720\ttotal: 9m 24s\tremaining: 20m 28s\n",
      "315:\tlearn: 0.1447773\ttotal: 9m 26s\tremaining: 20m 26s\n",
      "316:\tlearn: 0.1446826\ttotal: 9m 28s\tremaining: 20m 24s\n",
      "317:\tlearn: 0.1445785\ttotal: 9m 30s\tremaining: 20m 22s\n",
      "318:\tlearn: 0.1444579\ttotal: 9m 31s\tremaining: 20m 21s\n",
      "319:\tlearn: 0.1443718\ttotal: 9m 33s\tremaining: 20m 19s\n",
      "320:\tlearn: 0.1442434\ttotal: 9m 35s\tremaining: 20m 17s\n",
      "321:\tlearn: 0.1441089\ttotal: 9m 37s\tremaining: 20m 15s\n",
      "322:\tlearn: 0.1439700\ttotal: 9m 39s\tremaining: 20m 13s\n",
      "323:\tlearn: 0.1438516\ttotal: 9m 40s\tremaining: 20m 11s\n",
      "324:\tlearn: 0.1437815\ttotal: 9m 42s\tremaining: 20m 10s\n",
      "325:\tlearn: 0.1436565\ttotal: 9m 44s\tremaining: 20m 8s\n",
      "326:\tlearn: 0.1435504\ttotal: 9m 46s\tremaining: 20m 6s\n",
      "327:\tlearn: 0.1434566\ttotal: 9m 47s\tremaining: 20m 4s\n",
      "328:\tlearn: 0.1433852\ttotal: 9m 49s\tremaining: 20m 2s\n",
      "329:\tlearn: 0.1433284\ttotal: 9m 51s\tremaining: 20m\n",
      "330:\tlearn: 0.1432499\ttotal: 9m 53s\tremaining: 19m 58s\n",
      "331:\tlearn: 0.1431748\ttotal: 9m 54s\tremaining: 19m 56s\n",
      "332:\tlearn: 0.1430452\ttotal: 9m 56s\tremaining: 19m 54s\n",
      "333:\tlearn: 0.1428946\ttotal: 9m 58s\tremaining: 19m 53s\n",
      "334:\tlearn: 0.1428376\ttotal: 10m\tremaining: 19m 51s\n",
      "335:\tlearn: 0.1427377\ttotal: 10m 1s\tremaining: 19m 49s\n",
      "336:\tlearn: 0.1426475\ttotal: 10m 3s\tremaining: 19m 47s\n",
      "337:\tlearn: 0.1425314\ttotal: 10m 5s\tremaining: 19m 45s\n",
      "338:\tlearn: 0.1424720\ttotal: 10m 7s\tremaining: 19m 43s\n",
      "339:\tlearn: 0.1424053\ttotal: 10m 8s\tremaining: 19m 41s\n",
      "340:\tlearn: 0.1423308\ttotal: 10m 10s\tremaining: 19m 40s\n",
      "341:\tlearn: 0.1422372\ttotal: 10m 12s\tremaining: 19m 38s\n",
      "342:\tlearn: 0.1421406\ttotal: 10m 14s\tremaining: 19m 36s\n",
      "343:\tlearn: 0.1420861\ttotal: 10m 15s\tremaining: 19m 34s\n",
      "344:\tlearn: 0.1419836\ttotal: 10m 17s\tremaining: 19m 32s\n"
     ]
    }
   ],
   "source": [
    "parameters = {'iterations': range(1000, 1200, 100)}\n",
    "f1, best_parameters = model_look (CatBoostClassifier(random_state=RANDOM_STATE), parameters, features_train, target_train)\n",
    "display('Best parameters:', best_parameters)\n",
    "display('F1 of a model:', f1)"
   ]
  },
  {
   "cell_type": "code",
   "execution_count": null,
   "metadata": {},
   "outputs": [],
   "source": [
    "results = results.append({'model':'CatBoostClassifier', 'best_parameters_train':best_parameters, 'f1_train':f1}, ignore_index=True)\n",
    "results"
   ]
  },
  {
   "cell_type": "markdown",
   "metadata": {},
   "source": [
    "The data were trained by models, the best hyperparameters for them were identified and derived. Let's check the results on the test data."
   ]
  },
  {
   "cell_type": "markdown",
   "metadata": {},
   "source": [
    "Logistic regression has the best results, and we will check it on test data"
   ]
  },
  {
   "cell_type": "markdown",
   "metadata": {},
   "source": [
    "Let's create a model training function on a test sample, taking into account the entry of the result of the f1 metric into the table:"
   ]
  },
  {
   "cell_type": "code",
   "execution_count": null,
   "metadata": {},
   "outputs": [],
   "source": [
    "def ml_result(model, features_train, target_train, features_test, target_test):\n",
    "        \n",
    "    model.fit(features_train, target_train)\n",
    "    \n",
    "    predictions = model.predict(features_test)\n",
    "    \n",
    "    f1 = f1_score(target_test, predictions)\n",
    "      \n",
    "    return f1"
   ]
  },
  {
   "cell_type": "markdown",
   "metadata": {},
   "source": [
    "Let's test the logistic regression model on a test set:"
   ]
  },
  {
   "cell_type": "code",
   "execution_count": null,
   "metadata": {},
   "outputs": [],
   "source": [
    "f1 = ml_result(LogisticRegression(\n",
    "    random_state=RANDOM_STATE, solver='liblinear', C=24, max_iter=8), features_train, target_train, features_test, target_test\n",
    "              )\n",
    "results.loc[0, 'f1_test'] = f1\n",
    "results"
   ]
  },
  {
   "cell_type": "markdown",
   "metadata": {},
   "source": [
    "## Conclusions"
   ]
  },
  {
   "cell_type": "markdown",
   "metadata": {},
   "source": [
    "* Machine learning models were trained on training data and then tested on a test sample\n",
    "* The models that got the best results turned out to be Logistic Regression and CatBoostClassifier\n",
    "* However, more accurate predictions and shorter training time can be noted in Logistic Regression\n",
    "* The best parameters of the Logistic Regression model in the training sample: 'C': 25, 'max_iter': 8,'F1 models:'0.7643145224279749"
   ]
  },
  {
   "cell_type": "code",
   "execution_count": null,
   "metadata": {},
   "outputs": [],
   "source": []
  }
 ],
 "metadata": {
  "ExecuteTimeLog": [
   {
    "duration": 1576,
    "start_time": "2022-12-23T08:37:59.833Z"
   },
   {
    "duration": 145,
    "start_time": "2022-12-23T08:39:59.550Z"
   },
   {
    "duration": 1442,
    "start_time": "2022-12-23T08:41:55.059Z"
   },
   {
    "duration": 146,
    "start_time": "2022-12-23T08:41:56.503Z"
   },
   {
    "duration": 46,
    "start_time": "2022-12-23T08:45:16.018Z"
   },
   {
    "duration": 52,
    "start_time": "2022-12-23T08:45:34.849Z"
   },
   {
    "duration": 46,
    "start_time": "2022-12-23T08:46:22.304Z"
   },
   {
    "duration": 165,
    "start_time": "2022-12-23T08:46:43.607Z"
   },
   {
    "duration": 1442,
    "start_time": "2022-12-23T08:47:07.772Z"
   },
   {
    "duration": 81,
    "start_time": "2022-12-23T08:47:09.216Z"
   },
   {
    "duration": 9,
    "start_time": "2022-12-23T08:47:42.210Z"
   },
   {
    "duration": 2762,
    "start_time": "2022-12-23T08:53:09.509Z"
   },
   {
    "duration": 368,
    "start_time": "2022-12-23T08:54:12.650Z"
   },
   {
    "duration": 3022,
    "start_time": "2022-12-23T08:54:56.183Z"
   },
   {
    "duration": 8,
    "start_time": "2022-12-23T08:56:18.441Z"
   },
   {
    "duration": 32,
    "start_time": "2022-12-23T08:56:36.195Z"
   },
   {
    "duration": 25,
    "start_time": "2022-12-23T08:57:20.371Z"
   },
   {
    "duration": 210,
    "start_time": "2022-12-23T08:57:45.156Z"
   },
   {
    "duration": 218,
    "start_time": "2022-12-23T08:58:13.379Z"
   },
   {
    "duration": 114,
    "start_time": "2022-12-23T09:01:57.448Z"
   },
   {
    "duration": 4,
    "start_time": "2022-12-23T09:05:58.987Z"
   },
   {
    "duration": 4,
    "start_time": "2022-12-23T09:07:05.676Z"
   },
   {
    "duration": 6717,
    "start_time": "2022-12-23T09:07:32.715Z"
   },
   {
    "duration": 223,
    "start_time": "2022-12-23T11:05:48.512Z"
   },
   {
    "duration": 4,
    "start_time": "2022-12-23T11:10:34.743Z"
   },
   {
    "duration": 4046,
    "start_time": "2022-12-23T11:11:00.353Z"
   },
   {
    "duration": 11,
    "start_time": "2022-12-23T11:26:23.148Z"
   },
   {
    "duration": 3,
    "start_time": "2022-12-23T11:26:49.392Z"
   },
   {
    "duration": 25,
    "start_time": "2022-12-23T11:27:06.759Z"
   },
   {
    "duration": 1613,
    "start_time": "2022-12-23T11:32:59.090Z"
   },
   {
    "duration": 2213,
    "start_time": "2022-12-23T11:33:00.705Z"
   },
   {
    "duration": 14,
    "start_time": "2022-12-23T11:33:02.919Z"
   },
   {
    "duration": 47,
    "start_time": "2022-12-23T11:33:02.935Z"
   },
   {
    "duration": 27,
    "start_time": "2022-12-23T11:33:02.984Z"
   },
   {
    "duration": 247,
    "start_time": "2022-12-23T11:33:03.013Z"
   },
   {
    "duration": 234,
    "start_time": "2022-12-23T11:33:03.262Z"
   },
   {
    "duration": 319,
    "start_time": "2022-12-23T11:33:03.498Z"
   },
   {
    "duration": 4,
    "start_time": "2022-12-23T11:33:03.820Z"
   },
   {
    "duration": 7601,
    "start_time": "2022-12-23T11:33:03.827Z"
   },
   {
    "duration": 129,
    "start_time": "2022-12-23T11:33:11.430Z"
   },
   {
    "duration": 39,
    "start_time": "2022-12-23T11:33:45.163Z"
   },
   {
    "duration": 4,
    "start_time": "2022-12-23T11:34:50.476Z"
   },
   {
    "duration": 3,
    "start_time": "2022-12-23T11:35:33.252Z"
   },
   {
    "duration": 5637,
    "start_time": "2022-12-23T11:36:12.620Z"
   },
   {
    "duration": 7317,
    "start_time": "2022-12-23T11:42:23.693Z"
   },
   {
    "duration": 4,
    "start_time": "2022-12-23T11:43:32.922Z"
   },
   {
    "duration": 155227,
    "start_time": "2022-12-23T11:44:58.986Z"
   },
   {
    "duration": 9,
    "start_time": "2022-12-23T11:48:51.765Z"
   },
   {
    "duration": 13,
    "start_time": "2022-12-23T11:50:01.840Z"
   },
   {
    "duration": 1639,
    "start_time": "2022-12-23T11:51:06.212Z"
   },
   {
    "duration": 2250,
    "start_time": "2022-12-23T11:51:07.852Z"
   },
   {
    "duration": 14,
    "start_time": "2022-12-23T11:51:10.103Z"
   },
   {
    "duration": 46,
    "start_time": "2022-12-23T11:51:10.119Z"
   },
   {
    "duration": 50,
    "start_time": "2022-12-23T11:51:10.167Z"
   },
   {
    "duration": 243,
    "start_time": "2022-12-23T11:51:10.218Z"
   },
   {
    "duration": 236,
    "start_time": "2022-12-23T11:51:10.462Z"
   },
   {
    "duration": 342,
    "start_time": "2022-12-23T11:51:10.700Z"
   },
   {
    "duration": 5,
    "start_time": "2022-12-23T11:51:11.044Z"
   },
   {
    "duration": 8612,
    "start_time": "2022-12-23T11:51:11.051Z"
   },
   {
    "duration": 52,
    "start_time": "2022-12-23T11:51:19.665Z"
   },
   {
    "duration": 20,
    "start_time": "2022-12-23T11:51:19.719Z"
   },
   {
    "duration": 25,
    "start_time": "2022-12-23T11:51:19.741Z"
   },
   {
    "duration": 5574,
    "start_time": "2022-12-23T11:51:19.768Z"
   },
   {
    "duration": 6885,
    "start_time": "2022-12-23T11:51:25.344Z"
   },
   {
    "duration": 4,
    "start_time": "2022-12-23T11:51:32.230Z"
   },
   {
    "duration": 158975,
    "start_time": "2022-12-23T11:51:32.235Z"
   },
   {
    "duration": 9,
    "start_time": "2022-12-23T11:54:11.212Z"
   },
   {
    "duration": 683323,
    "start_time": "2022-12-23T11:54:11.223Z"
   },
   {
    "duration": 10,
    "start_time": "2022-12-23T12:05:34.549Z"
   },
   {
    "duration": 1680,
    "start_time": "2022-12-23T12:32:44.523Z"
   },
   {
    "duration": 2621,
    "start_time": "2022-12-23T12:32:46.205Z"
   },
   {
    "duration": 17,
    "start_time": "2022-12-23T12:32:48.828Z"
   },
   {
    "duration": 54,
    "start_time": "2022-12-23T12:32:48.848Z"
   },
   {
    "duration": 31,
    "start_time": "2022-12-23T12:32:48.904Z"
   },
   {
    "duration": 308,
    "start_time": "2022-12-23T12:32:48.937Z"
   },
   {
    "duration": 261,
    "start_time": "2022-12-23T12:32:49.247Z"
   },
   {
    "duration": 411,
    "start_time": "2022-12-23T12:32:49.510Z"
   },
   {
    "duration": 6,
    "start_time": "2022-12-23T12:32:49.923Z"
   },
   {
    "duration": 8471,
    "start_time": "2022-12-23T12:32:49.932Z"
   },
   {
    "duration": 37,
    "start_time": "2022-12-23T12:32:58.405Z"
   },
   {
    "duration": 4,
    "start_time": "2022-12-23T12:32:58.444Z"
   },
   {
    "duration": 15,
    "start_time": "2022-12-23T12:32:58.449Z"
   },
   {
    "duration": 5586,
    "start_time": "2022-12-23T12:32:58.466Z"
   },
   {
    "duration": 6988,
    "start_time": "2022-12-23T12:33:04.055Z"
   },
   {
    "duration": 3,
    "start_time": "2022-12-23T12:33:11.045Z"
   },
   {
    "duration": 153438,
    "start_time": "2022-12-23T12:33:11.050Z"
   },
   {
    "duration": 10,
    "start_time": "2022-12-23T12:35:44.490Z"
   },
   {
    "duration": 116,
    "start_time": "2022-12-24T09:00:11.224Z"
   },
   {
    "duration": 75,
    "start_time": "2022-12-24T09:02:05.462Z"
   },
   {
    "duration": 103,
    "start_time": "2024-01-27T16:18:33.443Z"
   },
   {
    "duration": 1603,
    "start_time": "2024-01-27T16:18:51.278Z"
   },
   {
    "duration": 2063,
    "start_time": "2024-01-27T16:18:52.883Z"
   },
   {
    "duration": 13,
    "start_time": "2024-01-27T16:18:54.948Z"
   },
   {
    "duration": 39,
    "start_time": "2024-01-27T16:18:54.963Z"
   },
   {
    "duration": 31,
    "start_time": "2024-01-27T16:18:55.004Z"
   },
   {
    "duration": 245,
    "start_time": "2024-01-27T16:18:55.037Z"
   },
   {
    "duration": 218,
    "start_time": "2024-01-27T16:18:55.284Z"
   },
   {
    "duration": 518,
    "start_time": "2024-01-27T16:18:55.504Z"
   },
   {
    "duration": 5,
    "start_time": "2024-01-27T16:18:56.023Z"
   },
   {
    "duration": 8647,
    "start_time": "2024-01-27T16:18:56.030Z"
   },
   {
    "duration": 29,
    "start_time": "2024-01-27T16:19:04.681Z"
   },
   {
    "duration": 5,
    "start_time": "2024-01-27T16:19:04.712Z"
   },
   {
    "duration": 13,
    "start_time": "2024-01-27T16:19:04.718Z"
   },
   {
    "duration": 5306,
    "start_time": "2024-01-27T16:19:04.733Z"
   },
   {
    "duration": 6563,
    "start_time": "2024-01-27T16:19:10.040Z"
   },
   {
    "duration": 3,
    "start_time": "2024-01-27T16:19:16.605Z"
   },
   {
    "duration": 100,
    "start_time": "2024-01-27T16:19:16.609Z"
   },
   {
    "duration": 0,
    "start_time": "2024-01-27T16:19:16.710Z"
   },
   {
    "duration": 0,
    "start_time": "2024-01-27T16:19:16.711Z"
   },
   {
    "duration": 0,
    "start_time": "2024-01-27T16:19:16.712Z"
   },
   {
    "duration": 0,
    "start_time": "2024-01-27T16:19:16.713Z"
   },
   {
    "duration": 0,
    "start_time": "2024-01-27T16:19:16.714Z"
   },
   {
    "duration": 0,
    "start_time": "2024-01-27T16:19:16.715Z"
   },
   {
    "duration": 0,
    "start_time": "2024-01-27T16:19:16.716Z"
   },
   {
    "duration": 0,
    "start_time": "2024-01-27T16:19:16.717Z"
   },
   {
    "duration": 0,
    "start_time": "2024-01-27T16:19:16.718Z"
   },
   {
    "duration": 1562,
    "start_time": "2024-01-27T16:19:46.073Z"
   },
   {
    "duration": 2084,
    "start_time": "2024-01-27T16:19:47.637Z"
   },
   {
    "duration": 13,
    "start_time": "2024-01-27T16:19:49.723Z"
   },
   {
    "duration": 39,
    "start_time": "2024-01-27T16:19:49.737Z"
   },
   {
    "duration": 25,
    "start_time": "2024-01-27T16:19:49.782Z"
   },
   {
    "duration": 242,
    "start_time": "2024-01-27T16:19:49.809Z"
   },
   {
    "duration": 218,
    "start_time": "2024-01-27T16:19:50.052Z"
   },
   {
    "duration": 317,
    "start_time": "2024-01-27T16:19:50.271Z"
   },
   {
    "duration": 4,
    "start_time": "2024-01-27T16:19:50.590Z"
   },
   {
    "duration": 8595,
    "start_time": "2024-01-27T16:19:50.595Z"
   },
   {
    "duration": 28,
    "start_time": "2024-01-27T16:19:59.192Z"
   },
   {
    "duration": 4,
    "start_time": "2024-01-27T16:19:59.222Z"
   },
   {
    "duration": 6,
    "start_time": "2024-01-27T16:19:59.227Z"
   },
   {
    "duration": 5412,
    "start_time": "2024-01-27T16:19:59.236Z"
   },
   {
    "duration": 6707,
    "start_time": "2024-01-27T16:20:04.650Z"
   },
   {
    "duration": 3,
    "start_time": "2024-01-27T16:20:11.359Z"
   },
   {
    "duration": 71,
    "start_time": "2024-01-27T16:20:11.364Z"
   },
   {
    "duration": 0,
    "start_time": "2024-01-27T16:20:11.436Z"
   },
   {
    "duration": 0,
    "start_time": "2024-01-27T16:20:11.438Z"
   },
   {
    "duration": 0,
    "start_time": "2024-01-27T16:20:11.439Z"
   },
   {
    "duration": 0,
    "start_time": "2024-01-27T16:20:11.440Z"
   },
   {
    "duration": 0,
    "start_time": "2024-01-27T16:20:11.441Z"
   },
   {
    "duration": 0,
    "start_time": "2024-01-27T16:20:11.442Z"
   },
   {
    "duration": 0,
    "start_time": "2024-01-27T16:20:11.443Z"
   },
   {
    "duration": 0,
    "start_time": "2024-01-27T16:20:11.444Z"
   },
   {
    "duration": 0,
    "start_time": "2024-01-27T16:20:11.445Z"
   },
   {
    "duration": 1706,
    "start_time": "2024-01-27T16:22:59.924Z"
   },
   {
    "duration": 13,
    "start_time": "2024-01-27T16:23:01.632Z"
   },
   {
    "duration": 84,
    "start_time": "2024-01-27T16:23:01.647Z"
   },
   {
    "duration": 48,
    "start_time": "2024-01-27T16:23:01.732Z"
   },
   {
    "duration": 260,
    "start_time": "2024-01-27T16:23:01.782Z"
   },
   {
    "duration": 219,
    "start_time": "2024-01-27T16:23:02.044Z"
   },
   {
    "duration": 324,
    "start_time": "2024-01-27T16:23:02.264Z"
   },
   {
    "duration": 4,
    "start_time": "2024-01-27T16:23:02.590Z"
   },
   {
    "duration": 1633,
    "start_time": "2024-01-27T16:27:19.585Z"
   },
   {
    "duration": 1978,
    "start_time": "2024-01-27T16:27:21.220Z"
   },
   {
    "duration": 13,
    "start_time": "2024-01-27T16:27:23.199Z"
   },
   {
    "duration": 35,
    "start_time": "2024-01-27T16:27:23.214Z"
   },
   {
    "duration": 33,
    "start_time": "2024-01-27T16:27:23.250Z"
   },
   {
    "duration": 240,
    "start_time": "2024-01-27T16:27:23.285Z"
   },
   {
    "duration": 223,
    "start_time": "2024-01-27T16:27:23.527Z"
   },
   {
    "duration": 331,
    "start_time": "2024-01-27T16:27:23.752Z"
   },
   {
    "duration": 4,
    "start_time": "2024-01-27T16:27:24.085Z"
   },
   {
    "duration": 8613,
    "start_time": "2024-01-27T16:27:24.092Z"
   },
   {
    "duration": 26,
    "start_time": "2024-01-27T16:27:32.706Z"
   },
   {
    "duration": 4,
    "start_time": "2024-01-27T16:27:32.733Z"
   },
   {
    "duration": 9,
    "start_time": "2024-01-27T16:27:32.738Z"
   },
   {
    "duration": 5237,
    "start_time": "2024-01-27T16:27:32.748Z"
   },
   {
    "duration": 6529,
    "start_time": "2024-01-27T16:27:37.986Z"
   },
   {
    "duration": 3,
    "start_time": "2024-01-27T16:27:44.517Z"
   },
   {
    "duration": 74,
    "start_time": "2024-01-27T16:27:44.521Z"
   },
   {
    "duration": 0,
    "start_time": "2024-01-27T16:27:44.596Z"
   },
   {
    "duration": 0,
    "start_time": "2024-01-27T16:27:44.597Z"
   },
   {
    "duration": 0,
    "start_time": "2024-01-27T16:27:44.598Z"
   },
   {
    "duration": 0,
    "start_time": "2024-01-27T16:27:44.599Z"
   },
   {
    "duration": 0,
    "start_time": "2024-01-27T16:27:44.600Z"
   },
   {
    "duration": 0,
    "start_time": "2024-01-27T16:27:44.601Z"
   },
   {
    "duration": 0,
    "start_time": "2024-01-27T16:27:44.602Z"
   },
   {
    "duration": 0,
    "start_time": "2024-01-27T16:27:44.603Z"
   },
   {
    "duration": 0,
    "start_time": "2024-01-27T16:27:44.604Z"
   },
   {
    "duration": 1604,
    "start_time": "2024-01-27T16:29:44.049Z"
   },
   {
    "duration": 1990,
    "start_time": "2024-01-27T16:29:45.656Z"
   },
   {
    "duration": 13,
    "start_time": "2024-01-27T16:29:47.648Z"
   },
   {
    "duration": 38,
    "start_time": "2024-01-27T16:29:47.663Z"
   },
   {
    "duration": 25,
    "start_time": "2024-01-27T16:29:47.703Z"
   },
   {
    "duration": 240,
    "start_time": "2024-01-27T16:29:47.729Z"
   },
   {
    "duration": 225,
    "start_time": "2024-01-27T16:29:47.971Z"
   },
   {
    "duration": 309,
    "start_time": "2024-01-27T16:29:48.198Z"
   },
   {
    "duration": 5,
    "start_time": "2024-01-27T16:29:48.508Z"
   },
   {
    "duration": 8574,
    "start_time": "2024-01-27T16:29:48.515Z"
   },
   {
    "duration": 25,
    "start_time": "2024-01-27T16:29:57.092Z"
   },
   {
    "duration": 4,
    "start_time": "2024-01-27T16:29:57.118Z"
   },
   {
    "duration": 11,
    "start_time": "2024-01-27T16:29:57.124Z"
   },
   {
    "duration": 5568,
    "start_time": "2024-01-27T16:29:57.137Z"
   },
   {
    "duration": 6993,
    "start_time": "2024-01-27T16:30:02.707Z"
   },
   {
    "duration": 3,
    "start_time": "2024-01-27T16:30:09.702Z"
   },
   {
    "duration": 172892,
    "start_time": "2024-01-27T16:30:09.707Z"
   },
   {
    "duration": 9,
    "start_time": "2024-01-27T16:33:02.600Z"
   },
   {
    "duration": 645659,
    "start_time": "2024-01-27T16:33:02.610Z"
   },
   {
    "duration": 18,
    "start_time": "2024-01-27T16:43:48.271Z"
   },
   {
    "duration": 874893,
    "start_time": "2024-01-27T16:43:48.291Z"
   },
   {
    "duration": 12,
    "start_time": "2024-01-27T16:58:23.186Z"
   },
   {
    "duration": 1577,
    "start_time": "2024-01-28T20:29:42.454Z"
   },
   {
    "duration": 2064,
    "start_time": "2024-01-28T20:29:44.033Z"
   },
   {
    "duration": 11,
    "start_time": "2024-01-28T20:29:46.099Z"
   },
   {
    "duration": 35,
    "start_time": "2024-01-28T20:29:46.112Z"
   },
   {
    "duration": 20,
    "start_time": "2024-01-28T20:29:46.149Z"
   },
   {
    "duration": 212,
    "start_time": "2024-01-28T20:29:46.170Z"
   },
   {
    "duration": 209,
    "start_time": "2024-01-28T20:29:46.384Z"
   },
   {
    "duration": 441,
    "start_time": "2024-01-28T20:29:46.595Z"
   },
   {
    "duration": 9,
    "start_time": "2024-01-28T20:29:47.037Z"
   },
   {
    "duration": 7590,
    "start_time": "2024-01-28T20:29:47.047Z"
   },
   {
    "duration": 26,
    "start_time": "2024-01-28T20:29:54.639Z"
   },
   {
    "duration": 4,
    "start_time": "2024-01-28T20:29:54.666Z"
   },
   {
    "duration": 40,
    "start_time": "2024-01-28T20:29:54.671Z"
   },
   {
    "duration": 4732,
    "start_time": "2024-01-28T20:29:54.713Z"
   },
   {
    "duration": 5887,
    "start_time": "2024-01-28T20:29:59.446Z"
   },
   {
    "duration": 3,
    "start_time": "2024-01-28T20:30:05.334Z"
   },
   {
    "duration": 171514,
    "start_time": "2024-01-28T20:30:05.344Z"
   },
   {
    "duration": 7,
    "start_time": "2024-01-28T20:32:56.859Z"
   },
   {
    "duration": 560177,
    "start_time": "2024-01-28T20:32:56.868Z"
   },
   {
    "duration": 10,
    "start_time": "2024-01-28T20:42:17.046Z"
   },
   {
    "duration": 751009,
    "start_time": "2024-01-28T20:42:17.058Z"
   },
   {
    "duration": 10,
    "start_time": "2024-01-28T20:54:48.069Z"
   }
  ],
  "kernelspec": {
   "display_name": "Python 3 (ipykernel)",
   "language": "python",
   "name": "python3"
  },
  "language_info": {
   "codemirror_mode": {
    "name": "ipython",
    "version": 3
   },
   "file_extension": ".py",
   "mimetype": "text/x-python",
   "name": "python",
   "nbconvert_exporter": "python",
   "pygments_lexer": "ipython3",
   "version": "3.9.5"
  },
  "toc": {
   "base_numbering": 1,
   "nav_menu": {},
   "number_sections": true,
   "sideBar": true,
   "skip_h1_title": true,
   "title_cell": "Содержание",
   "title_sidebar": "Contents",
   "toc_cell": true,
   "toc_position": {
    "height": "calc(100% - 180px)",
    "left": "10px",
    "top": "150px",
    "width": "302.391px"
   },
   "toc_section_display": true,
   "toc_window_display": false
  }
 },
 "nbformat": 4,
 "nbformat_minor": 2
}
